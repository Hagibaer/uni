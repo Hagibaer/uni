{
 "cells": [
  {
   "cell_type": "code",
   "execution_count": 1,
   "metadata": {
    "collapsed": true
   },
   "outputs": [],
   "source": [
    "import pandas as pd\n",
    "import numpy as np\n",
    "from sklearn import preprocessing\n",
    "import matplotlib.pyplot as plt\n",
    "import seaborn as sns"
   ]
  },
  {
   "cell_type": "code",
   "execution_count": 2,
   "metadata": {
    "collapsed": true
   },
   "outputs": [],
   "source": [
    "# get the data\n",
    "url = 'http://www.stat.cmu.edu/~larry/all-of-statistics/=data/faithful.dat'\n",
    "df_origin = pd.read_csv(url, encoding=\"latin1\",skiprows=20, sep=\"\\s+\")"
   ]
  },
  {
   "cell_type": "code",
   "execution_count": 3,
   "metadata": {
    "collapsed": true
   },
   "outputs": [],
   "source": [
    "# normalize it\n",
    "scaler = preprocessing.StandardScaler(copy=True, with_mean=True, with_std=True)\n",
    "scaler.fit(df_origin)\n",
    "df = scaler.transform(df_origin)"
   ]
  },
  {
   "cell_type": "code",
   "execution_count": 4,
   "metadata": {},
   "outputs": [
    {
     "data": {
      "image/png": "[encoded data removed]",
      "text/plain": [
       "<matplotlib.figure.Figure at 0x16e7e669cc0>"
      ]
     },
     "metadata": {},
     "output_type": "display_data"
    }
   ],
   "source": [
    "# Visualize data-set\n",
    "sns.regplot(x=df_origin[\"eruptions\"], y=df_origin[\"waiting\"], fit_reg=False)\n",
    "plt.show()"
   ]
  },
  {
   "cell_type": "code",
   "execution_count": 5,
   "metadata": {
    "collapsed": true
   },
   "outputs": [],
   "source": [
    "# implement k-means\n",
    "\n",
    "#1. Generate k-cluster-centers in certain range\n",
    "def generate_cluster_centers(k, df):\n",
    "    # get x and y limits\n",
    "    x_min = np.min(df[:, 0])\n",
    "    x_max = np.max(df[:, 0])\n",
    "    y_min = np.min(df[:, 1])\n",
    "    y_max = np.max(df[:, 1])\n",
    "    clusters = []\n",
    "    for i in range(k):\n",
    "        x_val = np.random.uniform(x_min, x_max)\n",
    "        y_val = np.random.uniform(y_min, y_max)\n",
    "        clusters.append([x_val, y_val])\n",
    "    clusters = np.asarray(clusters)\n",
    "    return clusters"
   ]
  },
  {
   "cell_type": "code",
   "execution_count": 6,
   "metadata": {
    "collapsed": true,
    "scrolled": true
   },
   "outputs": [],
   "source": [
    "def assign_label(element, cluster_centers):\n",
    "    # Calculate eucledian distance\n",
    "    dist = eucledian_distance(element, cluster_centers)\n",
    "    return dist.argsort()[0] # return label of closest cluster_center"
   ]
  },
  {
   "cell_type": "code",
   "execution_count": 7,
   "metadata": {
    "collapsed": true
   },
   "outputs": [],
   "source": [
    "def eucledian_distance(element, cluster_centers):\n",
    "    dist = pow((cluster_centers - element),2)\n",
    "    dist = np.sum(dist, axis=1)\n",
    "    dist = np.sqrt(dist)\n",
    "    return dist"
   ]
  },
  {
   "cell_type": "code",
   "execution_count": 8,
   "metadata": {
    "collapsed": true
   },
   "outputs": [],
   "source": [
    "def update_clusters(df, label, cluster_center):\n",
    "    # get data belonging to a cluster\n",
    "    data_with_labels = pd.DataFrame(np.hstack((df, np.column_stack(label).T)))\n",
    "    columns = [\"eruption\", \"waiting\", \"label\"]\n",
    "    data_with_labels.columns = columns\n",
    "    \n",
    "    for i, center in enumerate(cluster_center):\n",
    "        data = data_with_labels[['eruption', 'waiting']][data_with_labels.label==i]\n",
    "        if(len(data) == 0):\n",
    "            x_val = 0\n",
    "            y_val = 1\n",
    "        else:    \n",
    "            x_val = sum(data.eruption.values) / len(data)\n",
    "            y_val = sum(data.waiting.values) / len(data)\n",
    "        cluster_center[i] = [x_val, y_val]\n",
    "        \n",
    "    return cluster_center    "
   ]
  },
  {
   "cell_type": "code",
   "execution_count": 9,
   "metadata": {
    "collapsed": true
   },
   "outputs": [],
   "source": [
    "def k_means(k, df, maxit=1000):\n",
    "    #set up\n",
    "    old_labels = [1 for i in range(len(df))]\n",
    "    converged= False\n",
    "    num_iterations = 0\n",
    "    clusters = generate_cluster_centers(k, df)\n",
    "    \n",
    "    while not converged:\n",
    "        label = []\n",
    "        if num_iterations != 0:\n",
    "            clusters = update_clusters(df, old_labels, clusters)\n",
    "        # Need to recompute cluster-centers based on labels!\n",
    "        for element in df:\n",
    "            label.append(assign_label(element, clusters))\n",
    "        if old_labels == label:\n",
    "            if sum(label) != 0 and sum(label) != len(df):\n",
    "                converged = True\n",
    "        else:\n",
    "            old_labels = label\n",
    "            num_iterations += 1\n",
    "            \n",
    "        if num_iterations == maxit:\n",
    "            return np.asarray(label), clusters\n",
    "        \n",
    "    return np.asarray(label), clusters"
   ]
  },
  {
   "cell_type": "code",
   "execution_count": 10,
   "metadata": {
    "collapsed": true
   },
   "outputs": [],
   "source": [
    "def get_WSS(df, label, cluster_center):\n",
    "    data_with_labels = pd.DataFrame(np.hstack((df, np.column_stack(label).T)))\n",
    "    columns = [\"eruption\", \"waiting\", \"label\"]\n",
    "    data_with_labels.columns = columns\n",
    "    \n",
    "    wss = []\n",
    "    \n",
    "    for i, center in enumerate(cluster_center):\n",
    "        # Get data belonging to cluster_center\n",
    "        data = data_with_labels[['eruption', 'waiting']][data_with_labels.label==i]\n",
    "        \n",
    "        # Calculate clusters wss\n",
    "        cluster_wss = sum(eucledian_distance(center, data))\n",
    "        wss.append(cluster_wss)\n",
    "    \n",
    "    return sum(wss)"
   ]
  },
  {
   "cell_type": "code",
   "execution_count": 11,
   "metadata": {
    "collapsed": true
   },
   "outputs": [],
   "source": [
    "x_min = np.min(df[:, 0])\n",
    "x_max = np.max(df[:, 0])\n",
    "y_min = np.min(df[:, 1])\n",
    "y_max = np.max(df[:, 1])\n",
    "\n",
    "x_1 = (x_min + x_max) / 2\n",
    "y_1 = (y_min + y_max) / 2"
   ]
  },
  {
   "cell_type": "code",
   "execution_count": 12,
   "metadata": {},
   "outputs": [
    {
     "data": {
      "text/plain": [
       "[<matplotlib.lines.Line2D at 0x16e7fb90828>]"
      ]
     },
     "execution_count": 12,
     "metadata": {},
     "output_type": "execute_result"
    }
   ],
   "source": [
    "wss_values = []\n",
    "# get value for cluster = 1 as the functions breaks for k = 1\n",
    "wss_1 = sum(eucledian_distance([x_1, y_1], df))\n",
    "wss_values.append(wss_1)\n",
    "\n",
    "for i in range(2, 10, 1):\n",
    "    label, center = k_means(i+1, df)\n",
    "    wss = get_WSS(df, label, center)\n",
    "    wss_values.append(wss)\n",
    "\n",
    "plt.plot(np.arange(1,10,1), wss_values)\n",
    "\n"
   ]
  },
  {
   "cell_type": "code",
   "execution_count": 13,
   "metadata": {},
   "outputs": [
    {
     "data": {
      "image/png": "[encoded data removed]",
      "text/plain": [
       "<matplotlib.figure.Figure at 0x16e7e6ab160>"
      ]
     },
     "metadata": {},
     "output_type": "display_data"
    }
   ],
   "source": [
    "plt.show()"
   ]
  }
 ],
 "metadata": {
  "kernelspec": {
   "display_name": "Python 3",
   "language": "python",
   "name": "python3"
  },
  "language_info": {
   "codemirror_mode": {
    "name": "ipython",
    "version": 3
   },
   "file_extension": ".py",
   "mimetype": "text/x-python",
   "name": "python",
   "nbconvert_exporter": "python",
   "pygments_lexer": "ipython3",
   "version": "3.6.2"
  }
 },
 "nbformat": 4,
 "nbformat_minor": 2
}
