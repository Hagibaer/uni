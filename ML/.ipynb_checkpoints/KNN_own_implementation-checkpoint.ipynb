{
 "cells": [
  {
   "cell_type": "markdown",
   "metadata": {},
   "source": [
    "#### Note\n",
    "\n",
    "For this to work ensure that:\n",
    "\n",
    "1. The class labels are encoded as numeric values (0,1,2 ...)\n",
    "2. The data is on the same scale (standardized)\n",
    "3. The labels are categorical. This KNN does not work on continouus values\n",
    "4. The distance is measured via euclidean distance which can not be changed for now\n",
    "5. k % 2 != 0 ; Otherwise ties in the vote will be resolved randomly"
   ]
  },
  {
   "cell_type": "code",
   "execution_count": 54,
   "metadata": {
    "collapsed": true
   },
   "outputs": [],
   "source": [
    "import math\n",
    "import numpy as np\n",
    "import matplotlib.pyplot as plt\n",
    "from matplotlib.colors import ListedColormap"
   ]
  },
  {
   "cell_type": "markdown",
   "metadata": {},
   "source": [
    "###### Params: \n",
    "\n",
    "input_space = 2-Dimensional matrix representing the input-values\n",
    "\n",
    "data_point = the [x,y] data point to be classified\n",
    "\n",
    "###### returns:\n",
    "\n",
    "An ordered List of indicies, that correspond to the data-points of the input space. Ordered from close (data-point that is nearest) to far (data-point in the input space that is farthest from the point to be classified)\n",
    "\n",
    "The distances are measured using eucledian distance measure"
   ]
  },
  {
   "cell_type": "code",
   "execution_count": 55,
   "metadata": {
    "collapsed": true
   },
   "outputs": [],
   "source": [
    "def euclideanDistanceMatrix(input_space, data_point):\n",
    "    dist = pow((input_space - data_point),2)\n",
    "    dist = np.sum(dist, axis=1)\n",
    "    dist = np.sqrt(dist)\n",
    "    return dist.argsort()"
   ]
  },
  {
   "cell_type": "markdown",
   "metadata": {},
   "source": [
    "###### Params: \n",
    "\n",
    "distance_matrix = ordered list of indicies, that point to the closest / farthest data_points\n",
    "\n",
    "y_train = The labels from the input_space\n",
    "\n",
    "k = number of nearest-neighbors that shall be used in the vote\n",
    "\n",
    "###### returns:\n",
    "The result of the majority vote (= the label that is most common)\n"
   ]
  },
  {
   "cell_type": "code",
   "execution_count": 56,
   "metadata": {
    "collapsed": true
   },
   "outputs": [],
   "source": [
    "def majority_vote(distance_matrix, y_train, k):\n",
    "    label=[]\n",
    "    for x in range(k):\n",
    "        label.append(y_train[distance_matrix[x]])\n",
    "    counts = np.bincount(label)\n",
    "    return np.argmax(counts)"
   ]
  },
  {
   "cell_type": "markdown",
   "metadata": {},
   "source": [
    "##### Description\n",
    "\n",
    "This is just a helper function, tieing the two functions above together\n",
    "\n",
    "###### Params: \n",
    "\n",
    "input_space = 2-Dimensional matrix representing the input values\n",
    "\n",
    "input_labels = The labels from the input space\n",
    "\n",
    "X_test = 2-Dimensional matrix representing the values whose label shall be predicted\n",
    "\n",
    "k = number of nearest-neighbors that shall be used in the vote defaults to three. \n",
    "\n",
    "###### returns:\n",
    "An array of label-predictions on X_test\n"
   ]
  },
  {
   "cell_type": "code",
   "execution_count": 57,
   "metadata": {
    "collapsed": true
   },
   "outputs": [],
   "source": [
    "def knn(input_space, input_labels, X_test, k=3):\n",
    "    y_predict = []\n",
    "    for data_point in X_test:\n",
    "        indicies = euclideanDistanceMatrix(input_space, data_point)\n",
    "        label = majority_vote(indicies, input_labels, k)\n",
    "        y_predict.append(label)\n",
    "    return y_predict"
   ]
  },
  {
   "cell_type": "markdown",
   "metadata": {},
   "source": [
    "###### Params: \n",
    "\n",
    "y_test = The (true) labels from the test data X_test\n",
    "\n",
    "y_predict = The predicted labels from the knn algorithm on X_test\n",
    "\n",
    "\n",
    "###### returns:\n",
    "The number of missclassified samples\n"
   ]
  },
  {
   "cell_type": "code",
   "execution_count": 1,
   "metadata": {
    "collapsed": true
   },
   "outputs": [],
   "source": [
    "def indicator_loss(y_test, y_predict):\n",
    "    n_missclassified = 0\n",
    "    for idx, elem in enumerate(y_test):\n",
    "        if elem != y_predict[idx]:\n",
    "            n_missclassified +=1\n",
    "    return n_missclassified / len(y_test)"
   ]
  },
  {
   "cell_type": "markdown",
   "metadata": {},
   "source": [
    "#### Generate test data"
   ]
  },
  {
   "cell_type": "code",
   "execution_count": 59,
   "metadata": {
    "scrolled": false
   },
   "outputs": [
    {
     "name": "stderr",
     "output_type": "stream",
     "text": [
      "C:\\Users\\hagen\\Anaconda3\\lib\\site-packages\\sklearn\\utils\\validation.py:429: DataConversionWarning: Data with input dtype int32 was converted to float64 by StandardScaler.\n",
      "  warnings.warn(msg, _DataConversionWarning)\n"
     ]
    }
   ],
   "source": [
    "np.random.seed()\n",
    "input_space_1 =  np.random.randint(low=0, high=60, size=(20,2))\n",
    "input_labels_1 =  np.zeros(20)\n",
    "\n",
    "input_space_2 =  np.random.randint(low=30, high=80, size=(20,2))\n",
    "input_labels_2 =  np.ones(20)\n",
    "\n",
    "input_space = np.vstack((input_space_1, input_space_2))\n",
    "input_labels = np.hstack((input_labels_1, input_labels_2))\n",
    "\n",
    "X_test_1 =  np.random.randint(low=0, high=60, size=(10,2))\n",
    "y_test_1 =  np.zeros(10)\n",
    "X_test_2 = np.random.randint(low=30, high=80, size=(10,2))\n",
    "y_test_2 = np.ones(10)\n",
    "\n",
    "X_test = np.vstack((X_test_1, X_test_2))\n",
    "y_test = np.hstack((y_test_1, y_test_2))\n",
    "\n",
    "# standardize data \n",
    "\n",
    "from sklearn.preprocessing import StandardScaler\n",
    "sc = StandardScaler()\n",
    "sc.fit(input_space)\n",
    "input_space = sc.transform(input_space)\n",
    "X_test = sc.transform(X_test)"
   ]
  },
  {
   "cell_type": "markdown",
   "metadata": {},
   "source": [
    "#### Use knn to predict test-labels"
   ]
  },
  {
   "cell_type": "code",
   "execution_count": 60,
   "metadata": {
    "collapsed": true
   },
   "outputs": [],
   "source": [
    "y_predict = knn(input_space, input_labels, X_test, k=5)"
   ]
  },
  {
   "cell_type": "markdown",
   "metadata": {},
   "source": [
    "#### Calculate indicator loss"
   ]
  },
  {
   "cell_type": "code",
   "execution_count": 61,
   "metadata": {},
   "outputs": [
    {
     "data": {
      "text/plain": [
       "3"
      ]
     },
     "execution_count": 61,
     "metadata": {},
     "output_type": "execute_result"
    }
   ],
   "source": [
    "indicator_loss(y_test, y_predict)"
   ]
  },
  {
   "cell_type": "markdown",
   "metadata": {},
   "source": [
    "#### Visualization"
   ]
  },
  {
   "cell_type": "code",
   "execution_count": 62,
   "metadata": {},
   "outputs": [
    {
     "data": {
      "image/png": "[encoded data removed]",
      "text/plain": [
       "<matplotlib.figure.Figure at 0x1f1d949c9b0>"
      ]
     },
     "metadata": {},
     "output_type": "display_data"
    }
   ],
   "source": [
    "## Plot input_space and input labels\n",
    "\n",
    "markers = ['s', 'x']\n",
    "for idx, cl in enumerate(np.unique(input_labels)):\n",
    "    plt.scatter(x=input_space[input_labels==cl, 0], y=input_space[input_labels==cl, 1],\n",
    "               marker=markers[idx], label=cl)\n",
    "    \n",
    "plt.legend(loc='upper left')\n",
    "\n",
    "#plt.show()\n"
   ]
  },
  {
   "cell_type": "markdown",
   "metadata": {},
   "source": [
    "##### Show decision boundaries (adapted from Sebastian Raschkas book 'Python Machine Learning' chapter 2)"
   ]
  },
  {
   "cell_type": "code",
   "execution_count": 63,
   "metadata": {},
   "outputs": [
    {
     "data": {
      "image/png": "[encoded data removed]",
      "text/plain": [
       "<matplotlib.figure.Figure at 0x1f1d9137be0>"
      ]
     },
     "metadata": {},
     "output_type": "display_data"
    }
   ],
   "source": [
    "# get combined datasets\n",
    "X_combined = np.vstack((input_space, X_test))\n",
    "y_combined = np.hstack((input_labels, y_test))\n",
    "\n",
    "# setup marker generator and color map\n",
    "markers = ('s', 'x', 'o', '^', 'v')\n",
    "colors = ('blue', 'red', 'lightgreen', 'gray', 'cyan')\n",
    "cmap = ListedColormap(colors[:len(np.unique(y_predict))])\n",
    "\n",
    "# plot the decision surface\n",
    "x1_min, x1_max = X_combined[:, 0].min() - 1, X_combined[:, 0].max() + 1\n",
    "x2_min, x2_max = X_combined[:, 1].min() - 1, X_combined[:, 1].max() + 1\n",
    "xx1, xx2 = np.meshgrid(np.arange(x1_min, x1_max, 0.02),\n",
    "                           np.arange(x2_min, x2_max, 0.02))\n",
    "mesh_test = np.array([xx1.ravel(), xx2.ravel()]).T\n",
    "Z = knn(input_space=input_space, input_labels=input_labels, X_test=mesh_test, k=5)\n",
    "Z = np.array(Z)\n",
    "Z = Z.reshape(xx1.shape)\n",
    "plt.contourf(xx1, xx2, Z, alpha=0.3, cmap=cmap)\n",
    "plt.xlim(xx1.min(), xx1.max())\n",
    "plt.ylim(xx2.min(), xx2.max())\n",
    "\n",
    "# plot class samples\n",
    "for idx, cl in enumerate(np.unique(y_combined)):\n",
    "    plt.scatter(x=X_combined[y_combined==cl, 0], y=X_combined[y_combined==cl, 1],\n",
    "               marker=markers[idx], label=cl, alpha=0.8, cmap=cmap(idx))\n",
    "\n",
    "# Mark test data\n",
    "plt.scatter(X_test[:, 0], X_test[:,1], c='', alpha=1.0, linewidths=1, marker='o', edgecolor='black', s=55, label='test')\n",
    "\n",
    "plt.legend(loc='upper left')\n",
    "#plt.show()"
   ]
  },
  {
   "cell_type": "markdown",
   "metadata": {},
   "source": [
    "#### compare k to indicator-loss function"
   ]
  },
  {
   "cell_type": "code",
   "execution_count": 64,
   "metadata": {},
   "outputs": [
    {
     "data": {
      "image/png": "[encoded data removed]",
      "text/plain": [
       "<matplotlib.figure.Figure at 0x1f1d9376f60>"
      ]
     },
     "metadata": {},
     "output_type": "display_data"
    }
   ],
   "source": [
    "losses = []\n",
    "for k in range(1,len(input_space), 2):\n",
    "    y_predict = knn(input_space=input_space, input_labels=input_labels, X_test=X_test, k=k)\n",
    "    loss = indicator_loss(y_test=y_test, y_predict=y_predict)\n",
    "    losses.append(loss)\n",
    "plt.plot(range(1,len(input_space), 2) , losses, marker='o')\n",
    "plt.xlabel('k')\n",
    "plt.ylabel('indicator loss')\n",
    "#plt.show()"
   ]
  }
 ],
 "metadata": {
  "kernelspec": {
   "display_name": "Python 3",
   "language": "python",
   "name": "python3"
  },
  "language_info": {
   "codemirror_mode": {
    "name": "ipython",
    "version": 3
   },
   "file_extension": ".py",
   "mimetype": "text/x-python",
   "name": "python",
   "nbconvert_exporter": "python",
   "pygments_lexer": "ipython3",
   "version": "3.6.1"
  }
 },
 "nbformat": 4,
 "nbformat_minor": 2
}
