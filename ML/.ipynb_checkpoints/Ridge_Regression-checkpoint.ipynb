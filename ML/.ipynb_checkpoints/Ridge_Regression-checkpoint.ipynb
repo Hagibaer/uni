{
 "cells": [
  {
   "cell_type": "code",
   "execution_count": 84,
   "metadata": {
    "collapsed": true
   },
   "outputs": [],
   "source": [
    "# get logistic regression module\n",
    "import os\n",
    "import sys\n",
    "module_path = os.path.abspath(os.path.join('..'))\n",
    "if module_path not in sys.path:\n",
    "    sys.path.append(module_path)\n",
    "import Snippets.log_regression as lr\n",
    "\n",
    "# other libaries\n",
    "import pandas as pd\n",
    "import numpy as np\n",
    "import matplotlib.pyplot as plt\n",
    "import seaborn as sns"
   ]
  },
  {
   "cell_type": "code",
   "execution_count": 85,
   "metadata": {
    "collapsed": true
   },
   "outputs": [],
   "source": [
    "# Load the Spambase-Data set\n",
    "df = pd.read_csv('https://archive.ics.uci.edu/ml/machine-learning-databases/spambase/spambase.data', sep=',', header=None)"
   ]
  },
  {
   "cell_type": "code",
   "execution_count": 86,
   "metadata": {
    "collapsed": true
   },
   "outputs": [],
   "source": [
    "# Split dataframe into X_train, X_test, y_train, y_test\n",
    "X = df.iloc[:, :-1] \n",
    "y = df.iloc[:, -1] \n",
    "from sklearn.model_selection import train_test_split\n",
    "X_train, X_test, y_train, y_test = train_test_split(X, y, test_size=0.3)"
   ]
  },
  {
   "cell_type": "code",
   "execution_count": 87,
   "metadata": {
    "collapsed": true
   },
   "outputs": [],
   "source": [
    "# Standardize\n",
    "from sklearn.preprocessing import StandardScaler\n",
    "sc = StandardScaler()\n",
    "sc.fit(X_train)\n",
    "X_train = sc.transform(X_train)\n",
    "X_test = sc.transform(X_test)"
   ]
  },
  {
   "cell_type": "code",
   "execution_count": 88,
   "metadata": {
    "collapsed": true
   },
   "outputs": [],
   "source": [
    "def count_FP(y_true, y_predict):\n",
    "    FP = 0;\n",
    "    for i, elem in enumerate(y_true):\n",
    "        if elem == 0 and y_predict[i] == 1:\n",
    "            FP += 1\n",
    "    return FP"
   ]
  },
  {
   "cell_type": "code",
   "execution_count": 89,
   "metadata": {
    "collapsed": true
   },
   "outputs": [],
   "source": [
    "def count_FN(y_true, y_predict):\n",
    "    FN = 0;\n",
    "    for i, elem in enumerate(y_true):\n",
    "        if elem == 1 and y_predict[i] == 0:\n",
    "            FN += 1\n",
    "    return FN"
   ]
  },
  {
   "cell_type": "code",
   "execution_count": 90,
   "metadata": {
    "collapsed": true
   },
   "outputs": [],
   "source": [
    "# Calculate the Fß measure for ß = (.5, 1)\n",
    "def get_F_measure(beta, y_true, y_predict):\n",
    "    TP = len(y_true) - sum(abs(y_true-y_predict))\n",
    "    FP = count_FP(y_true, y_predict)\n",
    "    FN = count_FN(y_true, y_predict)\n",
    "    precision = TP / (TP + FP)\n",
    "    recall = TP / (TP + FN)\n",
    "    F = (1+beta**2) * (precision * recall) / (beta**2 * precision + recall)\n",
    "    return F"
   ]
  },
  {
   "cell_type": "code",
   "execution_count": 8,
   "metadata": {
    "collapsed": true
   },
   "outputs": [],
   "source": [
    "beta = lr.get_coefficients(X_train, y_train, steps=50000, gamma=5e-5, method='gradient')"
   ]
  },
  {
   "cell_type": "code",
   "execution_count": 13,
   "metadata": {},
   "outputs": [
    {
     "name": "stdout",
     "output_type": "stream",
     "text": [
      "F-Measure (beta = 0.5): 0.957205504309693\n",
      "F-Measure (beta = 1): 0.9565545901020023\n"
     ]
    }
   ],
   "source": [
    "y_predict = lr.predict(X_test, beta)\n",
    "print(\"F-Measure (beta = 0.5): {}\".format(get_F_measure(0.5, y_test, y_predict)))\n",
    "print(\"F-Measure (beta = 1): {}\".format(get_F_measure(1, y_test, y_predict)))"
   ]
  },
  {
   "cell_type": "markdown",
   "metadata": {},
   "source": [
    "### Logistic ridge regression"
   ]
  },
  {
   "cell_type": "code",
   "execution_count": 91,
   "metadata": {
    "collapsed": true
   },
   "outputs": [],
   "source": [
    "# def basis(X, mu, lambd, d):\n",
    "#     X_transform = []\n",
    "#     for col in pd.DataFrame(X).columns:\n",
    "#         kappa_values = []\n",
    "#         for i in range(d):\n",
    "#             kap = kappa(X[col], mu[i], lambd)\n",
    "#             kappa_values.append(kap)\n",
    "#         X_transform.append(kappa_values)\n",
    "#     print(np.asarray(X_transform).shape)\n",
    "#     return np.asarray(X_transform)"
   ]
  },
  {
   "cell_type": "code",
   "execution_count": 92,
   "metadata": {
    "collapsed": true
   },
   "outputs": [],
   "source": [
    "# def kappa(X, mu, lambd):\n",
    "#     L2 = np.linalg.norm(X-mu)\n",
    "#     kap = np.exp(-1/lambd*L2)\n",
    "     \n",
    "#     return kap"
   ]
  },
  {
   "cell_type": "code",
   "execution_count": 93,
   "metadata": {},
   "outputs": [],
   "source": [
    "def ridge_get_coefficients(X_train, y_train, delta):\n",
    "    #pad by one (I should really make a function for that)\n",
    "    X_train = np.hstack((np.ones((X_train.shape[0],1)), X_train)) \n",
    "    \n",
    "    # (X^tX + delta^2*I)^-1 * X^tY\n",
    "    \n",
    "    XtX = np.dot(X_train.T, X_train)\n",
    "    deltaI = delta**2 * np.identity(X_train.shape[1])\n",
    "    xy = np.dot(X_train.T, y_train)\n",
    "    beta = np.dot(np.linalg.inv(XtX + deltaI), xy)\n",
    "    \n",
    "    return beta\n",
    "    "
   ]
  },
  {
   "cell_type": "code",
   "execution_count": 94,
   "metadata": {},
   "outputs": [],
   "source": [
    "def predict_RR(X_test, X_train, y_train, delta):\n",
    "    beta = ridge_get_coefficients(X_train, y_train, delta)\n",
    "    # pad also X_test\n",
    "    X_test = np.hstack((np.ones((X_test.shape[0],1)), X_test)) \n",
    "    y_predict = np.dot(X_test, beta)\n",
    "    return y_predict"
   ]
  },
  {
   "cell_type": "code",
   "execution_count": 126,
   "metadata": {
    "collapsed": true
   },
   "outputs": [],
   "source": [
    "# Sigmoid function to map results between 0-1\n",
    "def sigmoid(result):\n",
    "    result = np.exp(result) / (1 + np.exp(result))\n",
    "    return result"
   ]
  },
  {
   "cell_type": "code",
   "execution_count": 133,
   "metadata": {
    "scrolled": false
   },
   "outputs": [
    {
     "name": "stdout",
     "output_type": "stream",
     "text": [
      "Fold 1-1: FScore = 0.5540214014497757, delta = 0.0001\n",
      "Fold 1-2: FScore = 0.5540214014497757, delta = 0.001\n",
      "Fold 1-3: FScore = 0.5540214014497757, delta = 0.01\n",
      "Fold 1-4: FScore = 0.5540214014497757, delta = 0.1\n",
      "Fold 1-5: FScore = 0.5540214014497757, delta = 1.0\n",
      "Fold 1-6: FScore = 0.5632104719255941, delta = 10.0\n",
      "Fold 1-7: FScore = 0.7921607378129117, delta = 100.0\n",
      "Fold 1-8: FScore = 0.820673712021136, delta = 1000.0\n",
      "Fold 1-9: FScore = 0.820673712021136, delta = 10000.0\n",
      "Fold 2-1: FScore = 0.5262243834664815, delta = 0.0001\n",
      "Fold 2-2: FScore = 0.5262243834664815, delta = 0.001\n",
      "Fold 2-3: FScore = 0.5262243834664815, delta = 0.01\n",
      "Fold 2-4: FScore = 0.5262243834664815, delta = 0.1\n",
      "Fold 2-5: FScore = 0.5262243834664815, delta = 1.0\n",
      "Fold 2-6: FScore = 0.5432525951557093, delta = 10.0\n",
      "Fold 2-7: FScore = 0.7627399073461285, delta = 100.0\n",
      "Fold 2-8: FScore = 0.8079318256309408, delta = 1000.0\n",
      "Fold 2-9: FScore = 0.8079318256309408, delta = 10000.0\n",
      "Fold 3-1: FScore = 0.5601516718372974, delta = 0.0001\n",
      "Fold 3-2: FScore = 0.5601516718372974, delta = 0.001\n",
      "Fold 3-3: FScore = 0.5601516718372974, delta = 0.01\n",
      "Fold 3-4: FScore = 0.5601516718372974, delta = 0.1\n",
      "Fold 3-5: FScore = 0.5601516718372974, delta = 1.0\n",
      "Fold 3-6: FScore = 0.5662650602409639, delta = 10.0\n",
      "Fold 3-7: FScore = 0.8006589785831961, delta = 100.0\n",
      "Fold 3-8: FScore = 0.8450704225352114, delta = 1000.0\n",
      "Fold 3-9: FScore = 0.8445391931780912, delta = 10000.0\n",
      "Fold 4-1: FScore = 0.5591991715567829, delta = 0.0001\n",
      "Fold 4-2: FScore = 0.5591991715567829, delta = 0.001\n",
      "Fold 4-3: FScore = 0.5591991715567829, delta = 0.01\n",
      "Fold 4-4: FScore = 0.5591991715567829, delta = 0.1\n",
      "Fold 4-5: FScore = 0.5591991715567829, delta = 1.0\n",
      "Fold 4-6: FScore = 0.5653223026542571, delta = 10.0\n",
      "Fold 4-7: FScore = 0.7712677921218141, delta = 100.0\n",
      "Fold 4-8: FScore = 0.8111220796314578, delta = 1000.0\n",
      "Fold 4-9: FScore = 0.8111220796314578, delta = 10000.0\n",
      "Fold 5-1: FScore = 0.5463347164591977, delta = 0.0001\n",
      "Fold 5-2: FScore = 0.5463347164591977, delta = 0.001\n",
      "Fold 5-3: FScore = 0.5463347164591977, delta = 0.01\n",
      "Fold 5-4: FScore = 0.5463347164591977, delta = 0.1\n",
      "Fold 5-5: FScore = 0.5478741790528864, delta = 1.0\n",
      "Fold 5-6: FScore = 0.5570886512590547, delta = 10.0\n",
      "Fold 5-7: FScore = 0.7588392261507673, delta = 100.0\n",
      "Fold 5-8: FScore = 0.8154859967051071, delta = 1000.0\n",
      "Fold 5-9: FScore = 0.814912570108875, delta = 10000.0\n",
      "Max Score: 0.8450704225352114 with delta: 1000.0\n"
     ]
    }
   ],
   "source": [
    "# Use sklearns k fold helper\n",
    "from sklearn.model_selection import KFold\n",
    "kf = KFold(n_splits = 5)\n",
    "\n",
    "max_score = 0\n",
    "max_delta = 0\n",
    "\n",
    "for i, (train, validate) in enumerate(kf.split(X_train)):\n",
    "    X_tr, X_val = X_train[train], X_train[validate]\n",
    "    y_tr, y_val = y_train.values[train], y_train.values[validate]\n",
    "    \n",
    "    delta = [0.0001, 0.001, 0.01, 0.1, 1.0, 10.0, 100.0, 1000.0, 10000.0]\n",
    "    for _ in range(len(delta)):\n",
    "        y_predict = predict_RR(X_val, X_tr, y_tr, delta[_])\n",
    "        y_predict = np.round(sigmoid(y_predict))\n",
    "        \n",
    "        score = get_F_measure(0.5, y_val, y_predict)\n",
    "        if score > max_score:\n",
    "            max_score = score\n",
    "            max_delta = delta[_]\n",
    "        print('Fold {}-{}: FScore = {}, delta = {}'.format(i+1, _+1, score, delta[_]))\n",
    "\n",
    "print('Max Score: {} with delta: {}'.format( max_score, max_delta))"
   ]
  },
  {
   "cell_type": "code",
   "execution_count": 138,
   "metadata": {},
   "outputs": [
    {
     "name": "stdout",
     "output_type": "stream",
     "text": [
      "F-Measure (beta = 0.5): 0.8143097901026506\n",
      "F-Measure (beta = 1): 0.8698854337152209\n"
     ]
    }
   ],
   "source": [
    "# It appears that delta = 1000 yields the best F-Scores on the validation sets\n",
    "# predict on X_test with delta = 1000\n",
    "y_predict = predict_RR(X_test=X_test, X_train=X_train, y_train=y_train, delta=1000)\n",
    "y_predict = np.round(sigmoid(y_predict))\n",
    "print(\"F-Measure (beta = 0.5): {}\".format(get_F_measure(0.5, y_test, y_predict)))\n",
    "print(\"F-Measure (beta = 1): {}\".format(get_F_measure(1, y_test, y_predict)))"
   ]
  }
 ],
 "metadata": {
  "kernelspec": {
   "display_name": "Python 3",
   "language": "python",
   "name": "python3"
  },
  "language_info": {
   "codemirror_mode": {
    "name": "ipython",
    "version": 3
   },
   "file_extension": ".py",
   "mimetype": "text/x-python",
   "name": "python",
   "nbconvert_exporter": "python",
   "pygments_lexer": "ipython3",
   "version": "3.6.1"
  }
 },
 "nbformat": 4,
 "nbformat_minor": 2
}
