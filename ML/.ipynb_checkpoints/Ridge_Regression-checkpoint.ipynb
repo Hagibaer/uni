{
 "cells": [
  {
   "cell_type": "code",
   "execution_count": 1,
   "metadata": {},
   "outputs": [],
   "source": [
    "# get logistic regression module\n",
    "import os\n",
    "import sys\n",
    "module_path = os.path.abspath(os.path.join('..'))\n",
    "if module_path not in sys.path:\n",
    "    sys.path.append(module_path)\n",
    "import Snippets.log_regression as lr\n",
    "\n",
    "# other libaries\n",
    "import pandas as pd\n",
    "import numpy as np\n",
    "import matplotlib.pyplot as plt\n",
    "import seaborn as sns"
   ]
  },
  {
   "cell_type": "code",
   "execution_count": 2,
   "metadata": {},
   "outputs": [],
   "source": [
    "# Load the Spambase-Data set\n",
    "df = pd.read_csv('https://archive.ics.uci.edu/ml/machine-learning-databases/spambase/spambase.data', sep=',', header=None)"
   ]
  },
  {
   "cell_type": "code",
   "execution_count": 38,
   "metadata": {},
   "outputs": [],
   "source": [
    "# Split dataframe into X_train, X_test, y_train, y_test\n",
    "X = df.iloc[:, :-1] \n",
    "y = df.iloc[:, -1] \n",
    "from sklearn.model_selection import train_test_split\n",
    "X_train, X_test, y_train, y_test = train_test_split(X, y, test_size=0.3)"
   ]
  },
  {
   "cell_type": "code",
   "execution_count": 218,
   "metadata": {
    "collapsed": true
   },
   "outputs": [],
   "source": [
    "# Standardize\n",
    "from sklearn.preprocessing import StandardScaler\n",
    "sc = StandardScaler()\n",
    "sc.fit(X_train)\n",
    "X_train = sc.transform(X_train)\n",
    "X_test = sc.transform(X_test)"
   ]
  },
  {
   "cell_type": "code",
   "execution_count": 10,
   "metadata": {
    "collapsed": true
   },
   "outputs": [],
   "source": [
    "def count_FP(y_true, y_predict):\n",
    "    FP = 0;\n",
    "    for i, elem in enumerate(y_true):\n",
    "        if elem == 0 and y_predict[i] == 1:\n",
    "            FP += 1\n",
    "    return FP"
   ]
  },
  {
   "cell_type": "code",
   "execution_count": 11,
   "metadata": {
    "collapsed": true
   },
   "outputs": [],
   "source": [
    "def count_FN(y_true, y_predict):\n",
    "    FN = 0;\n",
    "    for i, elem in enumerate(y_true):\n",
    "        if elem == 1 and y_predict[i] == 0:\n",
    "            FN += 1\n",
    "    return FN"
   ]
  },
  {
   "cell_type": "code",
   "execution_count": 12,
   "metadata": {
    "collapsed": true
   },
   "outputs": [],
   "source": [
    "# Calculate the Fß measure for ß = (.5, 1)\n",
    "def get_F_measure(beta, y_true, y_predict):\n",
    "    TP = len(y_true) - sum(abs(y_true-y_predict))\n",
    "    FP = count_FP(y_true, y_predict)\n",
    "    FN = count_FN(y_true, y_predict)\n",
    "    precision = TP / (TP + FP)\n",
    "    recall = TP / (TP + FN)\n",
    "    F = (1+beta**2) * (precision * recall) / (beta**2 * precision + recall)\n",
    "    return F"
   ]
  },
  {
   "cell_type": "code",
   "execution_count": 8,
   "metadata": {},
   "outputs": [],
   "source": [
    "beta = lr.get_coefficients(X_train, y_train, steps=50000, gamma=5e-5, method='gradient')"
   ]
  },
  {
   "cell_type": "code",
   "execution_count": 13,
   "metadata": {},
   "outputs": [
    {
     "name": "stdout",
     "output_type": "stream",
     "text": [
      "F-Measure (beta = 0.5): 0.957205504309693\n",
      "F-Measure (beta = 1): 0.9565545901020023\n"
     ]
    }
   ],
   "source": [
    "y_predict = lr.predict(X_test, beta)\n",
    "print(\"F-Measure (beta = 0.5): {}\".format(get_F_measure(0.5, y_test, y_predict)))\n",
    "print(\"F-Measure (beta = 1): {}\".format(get_F_measure(1, y_test, y_predict)))"
   ]
  },
  {
   "cell_type": "markdown",
   "metadata": {},
   "source": [
    "### Logistic ridge regression"
   ]
  },
  {
   "cell_type": "code",
   "execution_count": 324,
   "metadata": {
    "collapsed": true
   },
   "outputs": [],
   "source": [
    "def basis(X, mu, lambd, d):\n",
    "    X_transform = []\n",
    "    for col in pd.DataFrame(X).columns:\n",
    "        kappa_values = []\n",
    "        for i in range(d):\n",
    "            kap = kappa(X[col], mu[i], lambd)\n",
    "            kappa_values.append(kap)\n",
    "        X_transform.append(kappa_values)\n",
    "    print(np.asarray(X_transform).shape)\n",
    "    return np.asarray(X_transform)"
   ]
  },
  {
   "cell_type": "code",
   "execution_count": 325,
   "metadata": {
    "collapsed": true
   },
   "outputs": [],
   "source": [
    "def kappa(X, mu, lambd):\n",
    "    L2 = np.linalg.norm(X-mu)\n",
    "    kap = np.exp(-1/lambd*L2)\n",
    "     \n",
    "    return kap"
   ]
  },
  {
   "cell_type": "code",
   "execution_count": 326,
   "metadata": {},
   "outputs": [],
   "source": [
    "def ridge_get_coefficients(X_train, y_train, delta):\n",
    "    #pad by one (I should really make a function for that)\n",
    "    X_train = np.hstack((np.ones((X_test.shape[0],1)), X_test)) \n",
    "    \n",
    "    # Test parameters\n",
    "    mu = [0.1,0.2,0.3,0.4]\n",
    "    d = len(mu)\n",
    "    lambd=1\n",
    "    \n",
    "    # Müsste X_train.T nicht auch mit der basis function sein? --> Ergebnisse nachher mal checken\n",
    "    beta = np.dot(np.linalg.inv(np.dot(basis(X_train, mu, lambd, d).T , basis(X_train, mu, lambd, d)) + delta**2*np.identity(X_train.shape[1])), X_train.T)*y_train.values\n",
    "    #beta= np.dot(np.linalg.inv(np.dot(X_train.T, X_train) +  delta**2*np.identity(X_train.shape[1])), X_train.T)*y_train.values\n",
    "    \n",
    "    return beta\n",
    "    "
   ]
  },
  {
   "cell_type": "code",
   "execution_count": null,
   "metadata": {},
   "outputs": [],
   "source": []
  },
  {
   "cell_type": "code",
   "execution_count": 327,
   "metadata": {
    "scrolled": true
   },
   "outputs": [
    {
     "name": "stdout",
     "output_type": "stream",
     "text": [
      "(58, 4)\n",
      "(58, 4)\n"
     ]
    },
    {
     "ename": "ValueError",
     "evalue": "operands could not be broadcast together with shapes (4,4) (58,58) ",
     "output_type": "error",
     "traceback": [
      "\u001b[1;31m---------------------------------------------------------------------------\u001b[0m",
      "\u001b[1;31mValueError\u001b[0m                                Traceback (most recent call last)",
      "\u001b[1;32m<ipython-input-327-163b795ee716>\u001b[0m in \u001b[0;36m<module>\u001b[1;34m()\u001b[0m\n\u001b[1;32m----> 1\u001b[1;33m \u001b[0mbeta\u001b[0m \u001b[1;33m=\u001b[0m \u001b[0mridge_get_coefficients\u001b[0m\u001b[1;33m(\u001b[0m\u001b[0mX_train\u001b[0m\u001b[1;33m,\u001b[0m \u001b[0my_train\u001b[0m\u001b[1;33m,\u001b[0m \u001b[1;36m1e-5\u001b[0m\u001b[1;33m)\u001b[0m\u001b[1;33m\u001b[0m\u001b[0m\n\u001b[0m",
      "\u001b[1;32m<ipython-input-326-757d0c30ff31>\u001b[0m in \u001b[0;36mridge_get_coefficients\u001b[1;34m(X_train, y_train, delta)\u001b[0m\n\u001b[0;32m      9\u001b[0m \u001b[1;33m\u001b[0m\u001b[0m\n\u001b[0;32m     10\u001b[0m     \u001b[1;31m# Müsste X_train.T nicht auch mit der basis function sein? --> Ergebnisse nachher mal checken\u001b[0m\u001b[1;33m\u001b[0m\u001b[1;33m\u001b[0m\u001b[0m\n\u001b[1;32m---> 11\u001b[1;33m     \u001b[0mbeta\u001b[0m \u001b[1;33m=\u001b[0m \u001b[0mnp\u001b[0m\u001b[1;33m.\u001b[0m\u001b[0mdot\u001b[0m\u001b[1;33m(\u001b[0m\u001b[0mnp\u001b[0m\u001b[1;33m.\u001b[0m\u001b[0mlinalg\u001b[0m\u001b[1;33m.\u001b[0m\u001b[0minv\u001b[0m\u001b[1;33m(\u001b[0m\u001b[0mnp\u001b[0m\u001b[1;33m.\u001b[0m\u001b[0mdot\u001b[0m\u001b[1;33m(\u001b[0m\u001b[0mbasis\u001b[0m\u001b[1;33m(\u001b[0m\u001b[0mX_train\u001b[0m\u001b[1;33m,\u001b[0m \u001b[0mmu\u001b[0m\u001b[1;33m,\u001b[0m \u001b[0mlambd\u001b[0m\u001b[1;33m,\u001b[0m \u001b[0md\u001b[0m\u001b[1;33m)\u001b[0m\u001b[1;33m.\u001b[0m\u001b[0mT\u001b[0m \u001b[1;33m,\u001b[0m \u001b[0mbasis\u001b[0m\u001b[1;33m(\u001b[0m\u001b[0mX_train\u001b[0m\u001b[1;33m,\u001b[0m \u001b[0mmu\u001b[0m\u001b[1;33m,\u001b[0m \u001b[0mlambd\u001b[0m\u001b[1;33m,\u001b[0m \u001b[0md\u001b[0m\u001b[1;33m)\u001b[0m\u001b[1;33m)\u001b[0m \u001b[1;33m+\u001b[0m \u001b[0mdelta\u001b[0m\u001b[1;33m**\u001b[0m\u001b[1;36m2\u001b[0m\u001b[1;33m*\u001b[0m\u001b[0mnp\u001b[0m\u001b[1;33m.\u001b[0m\u001b[0midentity\u001b[0m\u001b[1;33m(\u001b[0m\u001b[0mX_train\u001b[0m\u001b[1;33m.\u001b[0m\u001b[0mshape\u001b[0m\u001b[1;33m[\u001b[0m\u001b[1;36m1\u001b[0m\u001b[1;33m]\u001b[0m\u001b[1;33m)\u001b[0m\u001b[1;33m)\u001b[0m\u001b[1;33m,\u001b[0m \u001b[0mX_train\u001b[0m\u001b[1;33m.\u001b[0m\u001b[0mT\u001b[0m\u001b[1;33m)\u001b[0m\u001b[1;33m*\u001b[0m\u001b[0my_train\u001b[0m\u001b[1;33m.\u001b[0m\u001b[0mvalues\u001b[0m\u001b[1;33m\u001b[0m\u001b[0m\n\u001b[0m\u001b[0;32m     12\u001b[0m     \u001b[1;31m#beta= np.dot(np.linalg.inv(np.dot(X_train.T, X_train) +  delta**2*np.identity(X_train.shape[1])), X_train.T)*y_train.values\u001b[0m\u001b[1;33m\u001b[0m\u001b[1;33m\u001b[0m\u001b[0m\n\u001b[0;32m     13\u001b[0m \u001b[1;33m\u001b[0m\u001b[0m\n",
      "\u001b[1;31mValueError\u001b[0m: operands could not be broadcast together with shapes (4,4) (58,58) "
     ]
    }
   ],
   "source": [
    "beta = ridge_get_coefficients(X_train, y_train, 1e-5)"
   ]
  },
  {
   "cell_type": "code",
   "execution_count": 247,
   "metadata": {},
   "outputs": [],
   "source": [
    "copy = X_train.copy()\n",
    "copy = np.hstack((np.ones((X_test.shape[0],1)), X_test)) \n",
    "delta = 1e-3\n",
    "#beta = np.dot(np.linalg.inv(copy)* basis(copy) + delta**2*np.identity(copy.shape[1])), copy.T)*y_train.values\n",
    "#beta\n"
   ]
  },
  {
   "cell_type": "code",
   "execution_count": 301,
   "metadata": {},
   "outputs": [
    {
     "data": {
      "text/plain": [
       "(3,)"
      ]
     },
     "execution_count": 301,
     "metadata": {},
     "output_type": "execute_result"
    }
   ],
   "source": [
    "copy_dot = np.dot(copy.T, copy)\n",
    "a = np.dot(np.linalg.inv(copy_dot + delta**2*np.identity(copy_dot.shape[0])), copy.T)\n",
    "a.shape\n",
    "copy.T.shape\n",
    "np.dot(a.T, copy.T).shape\n",
    "\n",
    "basis(copy, d=3, lambd=1, mu=[1,2,3])\n",
    "#kappa(copy, 2, 1)\n",
    "\n",
    "#L2 = np.linalg.norm(copy-1)\n",
    "\n",
    "#np.dot(np.linalg.inv(np.dot(X_train.T, X_train) +  delta**2*np.identity(X_train.shape[1])), X_train.T)*y_train.values"
   ]
  },
  {
   "cell_type": "code",
   "execution_count": null,
   "metadata": {
    "collapsed": true
   },
   "outputs": [],
   "source": []
  }
 ],
 "metadata": {
  "kernelspec": {
   "display_name": "Python 3",
   "language": "python",
   "name": "python3"
  },
  "language_info": {
   "codemirror_mode": {
    "name": "ipython",
    "version": 3
   },
   "file_extension": ".py",
   "mimetype": "text/x-python",
   "name": "python",
   "nbconvert_exporter": "python",
   "pygments_lexer": "ipython3",
   "version": "3.6.1"
  }
 },
 "nbformat": 4,
 "nbformat_minor": 2
}
