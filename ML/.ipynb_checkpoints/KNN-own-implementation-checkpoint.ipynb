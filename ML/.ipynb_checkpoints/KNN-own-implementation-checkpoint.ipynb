{
 "cells": [
  {
   "cell_type": "markdown",
   "metadata": {},
   "source": [
    "#### Note\n",
    "\n",
    "For this to work ensure that:\n",
    "\n",
    "1. The class labels are encoded as numeric values (0,1,2 ...)\n",
    "2. The data is normalized (between 0-1)\n",
    "3. The labels are categorical. This KNN does not work on continouus values\n",
    "4. The distance is measured via euclidean distance which can not be changed for now"
   ]
  },
  {
   "cell_type": "code",
   "execution_count": 481,
   "metadata": {
    "collapsed": true
   },
   "outputs": [],
   "source": [
    "import math\n",
    "import numpy as np\n",
    "import matplotlib.pyplot as plt\n",
    "from matplotlib.colors import ListedColormap"
   ]
  },
  {
   "cell_type": "code",
   "execution_count": 482,
   "metadata": {
    "collapsed": true
   },
   "outputs": [],
   "source": [
    "def euclideanDistanceMatrix(input_space, data_point):\n",
    "    dist = pow((input_space - data_point),2)\n",
    "    dist = np.sum(dist, axis=1)\n",
    "    dist = np.sqrt(dist)\n",
    "    return dist.argsort()"
   ]
  },
  {
   "cell_type": "code",
   "execution_count": 483,
   "metadata": {
    "collapsed": true
   },
   "outputs": [],
   "source": [
    "def majority_vote(distance_matrix, y_train, k):\n",
    "    label=[]\n",
    "    for x in range(k):\n",
    "        label.append(y_train[distance_matrix[x]])\n",
    "    counts = np.bincount(label)\n",
    "    return np.argmax(counts)"
   ]
  },
  {
   "cell_type": "code",
   "execution_count": 484,
   "metadata": {
    "collapsed": true
   },
   "outputs": [],
   "source": [
    "def knn(input_space, input_labels, X_test, k=3):\n",
    "    y_predict = []\n",
    "    for data_point in X_test:\n",
    "        indicies = euclideanDistanceMatrix(input_space, data_point)\n",
    "        label = majority_vote(indicies, input_labels, k)\n",
    "        y_predict.append(label)\n",
    "    return y_predict"
   ]
  },
  {
   "cell_type": "code",
   "execution_count": 485,
   "metadata": {
    "collapsed": true
   },
   "outputs": [],
   "source": [
    "def indicator_loss(y_test, y_predict):\n",
    "    n_missclassified = 0\n",
    "    for idx, elem in enumerate(y_test):\n",
    "        if elem == y_predict[idx]:\n",
    "            n_missclassified +=1\n",
    "    return n_missclassified"
   ]
  },
  {
   "cell_type": "markdown",
   "metadata": {},
   "source": [
    "#### Generate test data"
   ]
  },
  {
   "cell_type": "code",
   "execution_count": 486,
   "metadata": {
    "collapsed": true,
    "scrolled": false
   },
   "outputs": [],
   "source": [
    "np.random.seed()\n",
    "input_space =  np.random.rand(40,2)\n",
    "input_labels =  np.random.randint(2, size=40)\n",
    "\n",
    "X_test = np.random.rand(20,2)\n",
    "y_test = np.random.randint(2, size=20)"
   ]
  },
  {
   "cell_type": "markdown",
   "metadata": {},
   "source": [
    "#### Use knn to predict test-labels"
   ]
  },
  {
   "cell_type": "code",
   "execution_count": 487,
   "metadata": {
    "collapsed": true
   },
   "outputs": [],
   "source": [
    "y_predict = knn(input_space, input_labels, X_test, k=3)"
   ]
  },
  {
   "cell_type": "markdown",
   "metadata": {},
   "source": [
    "#### Calculate indicator loss"
   ]
  },
  {
   "cell_type": "code",
   "execution_count": 488,
   "metadata": {},
   "outputs": [
    {
     "data": {
      "text/plain": [
       "10"
      ]
     },
     "execution_count": 488,
     "metadata": {},
     "output_type": "execute_result"
    }
   ],
   "source": [
    "indicator_loss(y_test, y_predict)"
   ]
  },
  {
   "cell_type": "markdown",
   "metadata": {},
   "source": [
    "#### Visualization"
   ]
  },
  {
   "cell_type": "code",
   "execution_count": 489,
   "metadata": {},
   "outputs": [
    {
     "data": {
      "image/png": "[encoded data removed]",
      "text/plain": [
       "<matplotlib.figure.Figure at 0x2551393d0b8>"
      ]
     },
     "metadata": {},
     "output_type": "display_data"
    }
   ],
   "source": [
    "## Plot input_space and input labels\n",
    "\n",
    "markers = ['s', 'x']\n",
    "for idx, cl in enumerate(np.unique(input_labels)):\n",
    "    plt.scatter(x=input_space[input_labels==cl, 0], y=input_space[input_labels==cl, 1],\n",
    "               marker=markers[idx], label=cl)\n",
    "    \n",
    "plt.legend(loc='upper left')\n",
    "\n",
    "plt.show()\n"
   ]
  },
  {
   "cell_type": "markdown",
   "metadata": {},
   "source": [
    "##### Show decision boundaries"
   ]
  },
  {
   "cell_type": "code",
   "execution_count": 490,
   "metadata": {},
   "outputs": [
    {
     "data": {
      "image/png": "[encoded data removed]",
      "text/plain": [
       "<matplotlib.figure.Figure at 0x25513e47320>"
      ]
     },
     "metadata": {},
     "output_type": "display_data"
    }
   ],
   "source": [
    "# get combined datasets\n",
    "X_combined = np.vstack((input_space, X_test))\n",
    "y_combined = np.hstack((input_labels, y_test))\n",
    "\n",
    "# setup marker generator and color map\n",
    "markers = ('s', 'x', 'o', '^', 'v')\n",
    "colors = ('blue', 'red', 'lightgreen', 'gray', 'cyan')\n",
    "cmap = ListedColormap(colors[:len(np.unique(y_predict))])\n",
    "\n",
    "# plot the decision surface\n",
    "x1_min, x1_max = X_combined[:, 0].min() - 1, X_combined[:, 0].max() + 1\n",
    "x2_min, x2_max = X_combined[:, 1].min() - 1, X_combined[:, 1].max() + 1\n",
    "xx1, xx2 = np.meshgrid(np.arange(x1_min, x1_max, 0.02),\n",
    "                           np.arange(x2_min, x2_max, 0.02))\n",
    "mesh_test = np.array([xx1.ravel(), xx2.ravel()]).T\n",
    "Z = knn(input_space=input_space, input_labels=input_labels, X_test=mesh_test, k=5)\n",
    "Z = np.array(Z)\n",
    "Z = Z.reshape(xx1.shape)\n",
    "plt.contourf(xx1, xx2, Z, alpha=0.3, cmap=cmap)\n",
    "plt.xlim(xx1.min(), xx1.max())\n",
    "plt.ylim(xx2.min(), xx2.max())\n",
    "\n",
    "# plot class samples\n",
    "for idx, cl in enumerate(np.unique(y_combined)):\n",
    "    plt.scatter(x=X_combined[y_combined==cl, 0], y=X_combined[y_combined==cl, 1],\n",
    "               marker=markers[idx], label=cl, alpha=0.8, cmap=cmap(idx))\n",
    "\n",
    "# Mark test data\n",
    "plt.scatter(X_test[:, 0], X_test[:,1], c='', alpha=1.0, linewidths=1, marker='o', edgecolor='black', s=55, label='test')\n",
    "\n",
    "plt.legend(loc='upper left')\n",
    "plt.show()"
   ]
  },
  {
   "cell_type": "markdown",
   "metadata": {},
   "source": [
    "#### compare k to indicator-loss function"
   ]
  },
  {
   "cell_type": "code",
   "execution_count": 491,
   "metadata": {},
   "outputs": [
    {
     "data": {
      "image/png": "[encoded data removed]",
      "text/plain": [
       "<matplotlib.figure.Figure at 0x25513ae7780>"
      ]
     },
     "metadata": {},
     "output_type": "display_data"
    }
   ],
   "source": [
    "losses = []\n",
    "for k in range(1,21, 2):\n",
    "    y_predict = knn(input_space=input_space, input_labels=input_labels, X_test=X_test, k=k)\n",
    "    loss = indicator_loss(y_test=y_test, y_predict=y_predict)\n",
    "    losses.append(loss)\n",
    "plt.plot(range(1,20, 2) , losses, marker='o')\n",
    "plt.xlabel('k')\n",
    "plt.ylabel('indicator loss')\n",
    "plt.show()"
   ]
  }
 ],
 "metadata": {
  "kernelspec": {
   "display_name": "Python 3",
   "language": "python",
   "name": "python3"
  },
  "language_info": {
   "codemirror_mode": {
    "name": "ipython",
    "version": 3
   },
   "file_extension": ".py",
   "mimetype": "text/x-python",
   "name": "python",
   "nbconvert_exporter": "python",
   "pygments_lexer": "ipython3",
   "version": "3.6.2"
  }
 },
 "nbformat": 4,
 "nbformat_minor": 2
}
