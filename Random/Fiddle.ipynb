{
 "cells": [
  {
   "cell_type": "code",
   "execution_count": 140,
   "metadata": {
    "collapsed": true
   },
   "outputs": [],
   "source": [
    "import pandas as pd\n",
    "import numpy as np"
   ]
  },
  {
   "cell_type": "code",
   "execution_count": 141,
   "metadata": {
    "collapsed": true
   },
   "outputs": [],
   "source": [
    "df = pd.read_csv(\"file.csv\", sep=';', encoding='latin1', na_values='idk', decimal=',')"
   ]
  },
  {
   "cell_type": "code",
   "execution_count": 142,
   "metadata": {
    "scrolled": false
   },
   "outputs": [
    {
     "data": {
      "text/html": [
       "<div>\n",
       "<style>\n",
       "    .dataframe thead tr:only-child th {\n",
       "        text-align: right;\n",
       "    }\n",
       "\n",
       "    .dataframe thead th {\n",
       "        text-align: left;\n",
       "    }\n",
       "\n",
       "    .dataframe tbody tr th {\n",
       "        vertical-align: top;\n",
       "    }\n",
       "</style>\n",
       "<table border=\"1\" class=\"dataframe\">\n",
       "  <thead>\n",
       "    <tr style=\"text-align: right;\">\n",
       "      <th></th>\n",
       "      <th>Argus Drug Code</th>\n",
       "      <th>Product Name</th>\n",
       "      <th>ICRC Name</th>\n",
       "      <th>TradeName</th>\n",
       "      <th>Category (0-5)</th>\n",
       "      <th>Category (new)</th>\n",
       "      <th>TA</th>\n",
       "      <th>Responsible GSL</th>\n",
       "      <th>TA Coordinator</th>\n",
       "      <th>DLP</th>\n",
       "      <th>...</th>\n",
       "      <th>Planning Outsource</th>\n",
       "      <th>outsourced to</th>\n",
       "      <th>score</th>\n",
       "      <th>Time</th>\n",
       "      <th>Complexity</th>\n",
       "      <th># of Topics</th>\n",
       "      <th>Complexity New</th>\n",
       "      <th>Pages</th>\n",
       "      <th>Indications</th>\n",
       "      <th>Products</th>\n",
       "    </tr>\n",
       "  </thead>\n",
       "  <tbody>\n",
       "    <tr>\n",
       "      <th>0</th>\n",
       "      <td>BAY39-6251</td>\n",
       "      <td>AZELAIC ACID</td>\n",
       "      <td>0</td>\n",
       "      <td>Skinoren</td>\n",
       "      <td>2</td>\n",
       "      <td>B</td>\n",
       "      <td>GM/DI</td>\n",
       "      <td>Bianca Gagliotti</td>\n",
       "      <td>Asad Kazi</td>\n",
       "      <td>02.01.2017</td>\n",
       "      <td>...</td>\n",
       "      <td>yes</td>\n",
       "      <td>TCS</td>\n",
       "      <td>1</td>\n",
       "      <td>93.0</td>\n",
       "      <td>III</td>\n",
       "      <td>10</td>\n",
       "      <td>III</td>\n",
       "      <td>131.0</td>\n",
       "      <td>3.0</td>\n",
       "      <td>1.0</td>\n",
       "    </tr>\n",
       "    <tr>\n",
       "      <th>1</th>\n",
       "      <td>BAY1841788</td>\n",
       "      <td>Darolutamide (previous: ODM-201 (AR Antagonist))</td>\n",
       "      <td>ODM-201</td>\n",
       "      <td>NaN</td>\n",
       "      <td>1</td>\n",
       "      <td>A</td>\n",
       "      <td>ONC Non-TKI</td>\n",
       "      <td>Ping Ji</td>\n",
       "      <td>Susanne Kippes</td>\n",
       "      <td>04.01.2017</td>\n",
       "      <td>...</td>\n",
       "      <td>yes</td>\n",
       "      <td>ICRC-Weyer</td>\n",
       "      <td>1</td>\n",
       "      <td>124.5</td>\n",
       "      <td>III</td>\n",
       "      <td>6</td>\n",
       "      <td>IV</td>\n",
       "      <td>349.0</td>\n",
       "      <td>NaN</td>\n",
       "      <td>1.0</td>\n",
       "    </tr>\n",
       "    <tr>\n",
       "      <th>2</th>\n",
       "      <td>BAYA2502</td>\n",
       "      <td>NIFURTIMOX</td>\n",
       "      <td>0</td>\n",
       "      <td>Lampit</td>\n",
       "      <td>2</td>\n",
       "      <td>B</td>\n",
       "      <td>PC/Pul</td>\n",
       "      <td>Yuhong Wang</td>\n",
       "      <td>Kathrin Mastrangelo</td>\n",
       "      <td>07.01.2017</td>\n",
       "      <td>...</td>\n",
       "      <td>yes</td>\n",
       "      <td>TCS</td>\n",
       "      <td>1</td>\n",
       "      <td>98.0</td>\n",
       "      <td>III</td>\n",
       "      <td>2</td>\n",
       "      <td>V</td>\n",
       "      <td>147.0</td>\n",
       "      <td>1.0</td>\n",
       "      <td>1.0</td>\n",
       "    </tr>\n",
       "    <tr>\n",
       "      <th>3</th>\n",
       "      <td>BAYA2502</td>\n",
       "      <td>NIFURTIMOX</td>\n",
       "      <td>0</td>\n",
       "      <td>Lampit</td>\n",
       "      <td>2</td>\n",
       "      <td>B</td>\n",
       "      <td>PC/Pul</td>\n",
       "      <td>Yuhong Wang</td>\n",
       "      <td>Kathrin Mastrangelo</td>\n",
       "      <td>07.01.2017</td>\n",
       "      <td>...</td>\n",
       "      <td>yes</td>\n",
       "      <td>TCS</td>\n",
       "      <td>1</td>\n",
       "      <td>106.0</td>\n",
       "      <td>III</td>\n",
       "      <td>8</td>\n",
       "      <td>III</td>\n",
       "      <td>56.0</td>\n",
       "      <td>2.0</td>\n",
       "      <td>1.0</td>\n",
       "    </tr>\n",
       "    <tr>\n",
       "      <th>4</th>\n",
       "      <td>BAY1217389</td>\n",
       "      <td>MPS1 INHIBIOTR \"FU\" (imidazopyr)</td>\n",
       "      <td>0</td>\n",
       "      <td>NaN</td>\n",
       "      <td>1</td>\n",
       "      <td>A</td>\n",
       "      <td>ONC Non-TKI</td>\n",
       "      <td>Cinara McCarthy</td>\n",
       "      <td>Susanne Kippes</td>\n",
       "      <td>20.01.2017</td>\n",
       "      <td>...</td>\n",
       "      <td>yes</td>\n",
       "      <td>TCS</td>\n",
       "      <td>1</td>\n",
       "      <td>54.0</td>\n",
       "      <td>III</td>\n",
       "      <td>1</td>\n",
       "      <td>V</td>\n",
       "      <td>272.0</td>\n",
       "      <td>1.0</td>\n",
       "      <td>1.0</td>\n",
       "    </tr>\n",
       "  </tbody>\n",
       "</table>\n",
       "<p>5 rows × 26 columns</p>\n",
       "</div>"
      ],
      "text/plain": [
       "  Argus Drug Code                                      Product Name ICRC Name  \\\n",
       "0      BAY39-6251                                      AZELAIC ACID         0   \n",
       "1      BAY1841788  Darolutamide (previous: ODM-201 (AR Antagonist))   ODM-201   \n",
       "2        BAYA2502                                        NIFURTIMOX         0   \n",
       "3        BAYA2502                                        NIFURTIMOX         0   \n",
       "4      BAY1217389                  MPS1 INHIBIOTR \"FU\" (imidazopyr)         0   \n",
       "\n",
       "  TradeName  Category (0-5) Category (new)           TA   Responsible GSL  \\\n",
       "0  Skinoren               2              B        GM/DI  Bianca Gagliotti   \n",
       "1       NaN               1              A  ONC Non-TKI           Ping Ji   \n",
       "2    Lampit               2              B       PC/Pul       Yuhong Wang   \n",
       "3    Lampit               2              B       PC/Pul       Yuhong Wang   \n",
       "4       NaN               1              A  ONC Non-TKI   Cinara McCarthy   \n",
       "\n",
       "        TA Coordinator         DLP    ...    Planning Outsource  \\\n",
       "0            Asad Kazi  02.01.2017    ...                   yes   \n",
       "1       Susanne Kippes  04.01.2017    ...                   yes   \n",
       "2  Kathrin Mastrangelo  07.01.2017    ...                   yes   \n",
       "3  Kathrin Mastrangelo  07.01.2017    ...                   yes   \n",
       "4       Susanne Kippes  20.01.2017    ...                   yes   \n",
       "\n",
       "   outsourced to score   Time Complexity # of Topics Complexity New  Pages  \\\n",
       "0            TCS     1   93.0        III          10            III  131.0   \n",
       "1     ICRC-Weyer     1  124.5        III           6             IV  349.0   \n",
       "2            TCS     1   98.0        III           2              V  147.0   \n",
       "3            TCS     1  106.0        III           8            III   56.0   \n",
       "4            TCS     1   54.0        III           1              V  272.0   \n",
       "\n",
       "   Indications  Products  \n",
       "0          3.0       1.0  \n",
       "1          NaN       1.0  \n",
       "2          1.0       1.0  \n",
       "3          2.0       1.0  \n",
       "4          1.0       1.0  \n",
       "\n",
       "[5 rows x 26 columns]"
      ]
     },
     "execution_count": 142,
     "metadata": {},
     "output_type": "execute_result"
    }
   ],
   "source": [
    "df.head()"
   ]
  },
  {
   "cell_type": "code",
   "execution_count": 143,
   "metadata": {
    "collapsed": true
   },
   "outputs": [],
   "source": [
    "y = df['Time']"
   ]
  },
  {
   "cell_type": "code",
   "execution_count": 144,
   "metadata": {
    "collapsed": true
   },
   "outputs": [],
   "source": [
    "X = df.loc[:, df.columns!='Time']\n"
   ]
  },
  {
   "cell_type": "code",
   "execution_count": 145,
   "metadata": {
    "scrolled": true
   },
   "outputs": [
    {
     "data": {
      "text/plain": [
       "Category (0-5)                                          0.278319\n",
       "Due Date \\n(if no exact date mid of quarter planned)         NaN\n",
       "score                                                        NaN\n",
       "Time                                                    1.000000\n",
       "# of Topics                                             0.434516\n",
       "Pages                                                   0.012926\n",
       "Indications                                            -0.046333\n",
       "Products                                                0.174516\n",
       "Name: Time, dtype: float64"
      ]
     },
     "execution_count": 145,
     "metadata": {},
     "output_type": "execute_result"
    }
   ],
   "source": [
    "# Checking Pearson\n",
    "df[df.columns[1:]].corr()['Time']"
   ]
  },
  {
   "cell_type": "code",
   "execution_count": 146,
   "metadata": {
    "collapsed": true
   },
   "outputs": [],
   "source": [
    "df = df[['# of Topics', 'Products','TA']]"
   ]
  },
  {
   "cell_type": "code",
   "execution_count": 178,
   "metadata": {},
   "outputs": [],
   "source": [
    "df.columns = [\"topics\", \"products\", \"ta\"]"
   ]
  },
  {
   "cell_type": "code",
   "execution_count": 180,
   "metadata": {},
   "outputs": [
    {
     "data": {
      "text/plain": [
       "0      93.0\n",
       "1     124.5\n",
       "2      98.0\n",
       "3     106.0\n",
       "4      54.0\n",
       "5     223.0\n",
       "6      96.5\n",
       "7      71.0\n",
       "8     135.0\n",
       "9      41.0\n",
       "10     98.0\n",
       "11    177.0\n",
       "12     87.0\n",
       "13     95.0\n",
       "14     88.0\n",
       "15     95.0\n",
       "16     99.0\n",
       "17    103.0\n",
       "18     69.0\n",
       "19    119.0\n",
       "20     56.0\n",
       "21    165.0\n",
       "22     91.0\n",
       "23    104.5\n",
       "24    106.0\n",
       "25     41.0\n",
       "26     47.0\n",
       "27    155.0\n",
       "28    110.0\n",
       "29     76.5\n",
       "30    226.0\n",
       "31    174.0\n",
       "32    104.5\n",
       "33     91.0\n",
       "Name: Time, dtype: float64"
      ]
     },
     "execution_count": 180,
     "metadata": {},
     "output_type": "execute_result"
    }
   ],
   "source": [
    "y"
   ]
  },
  {
   "cell_type": "code",
   "execution_count": 107,
   "metadata": {
    "collapsed": true,
    "scrolled": true
   },
   "outputs": [],
   "source": [
    "# Data cleaning\n",
    "# Convert outsourced to to numeric\n",
    "from sklearn import preprocessing as pre\n",
    "# le = pre.LabelEncoder()\n",
    "# le.fit(df['outsourced to'])\n",
    "# df['outsourced to'] = le.transform(df['outsourced to'])"
   ]
  },
  {
   "cell_type": "code",
   "execution_count": 147,
   "metadata": {
    "collapsed": true
   },
   "outputs": [],
   "source": [
    "le = pre.LabelEncoder()\n",
    "le.fit(df[\"TA\"])\n",
    "df['TA'] = le.transform(df['TA'])\n"
   ]
  },
  {
   "cell_type": "code",
   "execution_count": 108,
   "metadata": {
    "scrolled": true
   },
   "outputs": [],
   "source": [
    "#df = pd.get_dummies(df)"
   ]
  },
  {
   "cell_type": "code",
   "execution_count": 111,
   "metadata": {
    "collapsed": true,
    "scrolled": true
   },
   "outputs": [],
   "source": [
    "# pages: impute nans with mean\n",
    "# from sklearn.preprocessing import Imputer\n",
    "# imp = Imputer()\n",
    "# imp.fit(df['Pages'].reshape(-1, 1))\n",
    "# new = imp.transform(df['Pages'].reshape(-1,1))\n",
    "# df['Pages'] = new"
   ]
  },
  {
   "cell_type": "code",
   "execution_count": 150,
   "metadata": {
    "scrolled": false
   },
   "outputs": [
    {
     "ename": "AttributeError",
     "evalue": "'DataFrame' object has no attribute 'Indications'",
     "output_type": "error",
     "traceback": [
      "\u001b[1;31m---------------------------------------------------------------------------\u001b[0m",
      "\u001b[1;31mAttributeError\u001b[0m                            Traceback (most recent call last)",
      "\u001b[1;32m<ipython-input-150-eeffe770d5e4>\u001b[0m in \u001b[0;36m<module>\u001b[1;34m()\u001b[0m\n\u001b[0;32m      1\u001b[0m \u001b[1;31m# Topics is fine\u001b[0m\u001b[1;33m\u001b[0m\u001b[1;33m\u001b[0m\u001b[0m\n\u001b[0;32m      2\u001b[0m \u001b[1;31m# Indications: Replace idk & NaNs with 1\u001b[0m\u001b[1;33m\u001b[0m\u001b[1;33m\u001b[0m\u001b[0m\n\u001b[1;32m----> 3\u001b[1;33m \u001b[0mdf\u001b[0m\u001b[1;33m.\u001b[0m\u001b[0mIndications\u001b[0m \u001b[1;33m=\u001b[0m \u001b[0mdf\u001b[0m\u001b[1;33m.\u001b[0m\u001b[0mIndications\u001b[0m\u001b[1;33m.\u001b[0m\u001b[0mfillna\u001b[0m\u001b[1;33m(\u001b[0m\u001b[0mvalue\u001b[0m\u001b[1;33m=\u001b[0m\u001b[1;36m1\u001b[0m\u001b[1;33m,\u001b[0m \u001b[1;33m)\u001b[0m\u001b[1;33m\u001b[0m\u001b[0m\n\u001b[0m",
      "\u001b[1;32mC:\\Users\\hagen\\Anaconda3\\lib\\site-packages\\pandas\\core\\generic.py\u001b[0m in \u001b[0;36m__getattr__\u001b[1;34m(self, name)\u001b[0m\n\u001b[0;32m   2968\u001b[0m             \u001b[1;32mif\u001b[0m \u001b[0mname\u001b[0m \u001b[1;32min\u001b[0m \u001b[0mself\u001b[0m\u001b[1;33m.\u001b[0m\u001b[0m_info_axis\u001b[0m\u001b[1;33m:\u001b[0m\u001b[1;33m\u001b[0m\u001b[0m\n\u001b[0;32m   2969\u001b[0m                 \u001b[1;32mreturn\u001b[0m \u001b[0mself\u001b[0m\u001b[1;33m[\u001b[0m\u001b[0mname\u001b[0m\u001b[1;33m]\u001b[0m\u001b[1;33m\u001b[0m\u001b[0m\n\u001b[1;32m-> 2970\u001b[1;33m             \u001b[1;32mreturn\u001b[0m \u001b[0mobject\u001b[0m\u001b[1;33m.\u001b[0m\u001b[0m__getattribute__\u001b[0m\u001b[1;33m(\u001b[0m\u001b[0mself\u001b[0m\u001b[1;33m,\u001b[0m \u001b[0mname\u001b[0m\u001b[1;33m)\u001b[0m\u001b[1;33m\u001b[0m\u001b[0m\n\u001b[0m\u001b[0;32m   2971\u001b[0m \u001b[1;33m\u001b[0m\u001b[0m\n\u001b[0;32m   2972\u001b[0m     \u001b[1;32mdef\u001b[0m \u001b[0m__setattr__\u001b[0m\u001b[1;33m(\u001b[0m\u001b[0mself\u001b[0m\u001b[1;33m,\u001b[0m \u001b[0mname\u001b[0m\u001b[1;33m,\u001b[0m \u001b[0mvalue\u001b[0m\u001b[1;33m)\u001b[0m\u001b[1;33m:\u001b[0m\u001b[1;33m\u001b[0m\u001b[0m\n",
      "\u001b[1;31mAttributeError\u001b[0m: 'DataFrame' object has no attribute 'Indications'"
     ]
    }
   ],
   "source": [
    "# Topics is fine\n",
    "# Indications: Replace idk & NaNs with 1\n",
    "df.Indications = df.Indications.fillna(value=1, )"
   ]
  },
  {
   "cell_type": "code",
   "execution_count": 151,
   "metadata": {
    "collapsed": true
   },
   "outputs": [],
   "source": [
    "df.Products = df.Products.fillna(value=1)\n"
   ]
  },
  {
   "cell_type": "code",
   "execution_count": 154,
   "metadata": {
    "scrolled": true
   },
   "outputs": [
    {
     "data": {
      "text/html": [
       "<div>\n",
       "<style>\n",
       "    .dataframe thead tr:only-child th {\n",
       "        text-align: right;\n",
       "    }\n",
       "\n",
       "    .dataframe thead th {\n",
       "        text-align: left;\n",
       "    }\n",
       "\n",
       "    .dataframe tbody tr th {\n",
       "        vertical-align: top;\n",
       "    }\n",
       "</style>\n",
       "<table border=\"1\" class=\"dataframe\">\n",
       "  <thead>\n",
       "    <tr style=\"text-align: right;\">\n",
       "      <th></th>\n",
       "      <th># of Topics</th>\n",
       "      <th>Products</th>\n",
       "      <th>TA</th>\n",
       "    </tr>\n",
       "  </thead>\n",
       "  <tbody>\n",
       "    <tr>\n",
       "      <th>0</th>\n",
       "      <td>10</td>\n",
       "      <td>1.0</td>\n",
       "      <td>0</td>\n",
       "    </tr>\n",
       "    <tr>\n",
       "      <th>1</th>\n",
       "      <td>6</td>\n",
       "      <td>1.0</td>\n",
       "      <td>1</td>\n",
       "    </tr>\n",
       "    <tr>\n",
       "      <th>2</th>\n",
       "      <td>2</td>\n",
       "      <td>1.0</td>\n",
       "      <td>3</td>\n",
       "    </tr>\n",
       "    <tr>\n",
       "      <th>3</th>\n",
       "      <td>8</td>\n",
       "      <td>1.0</td>\n",
       "      <td>3</td>\n",
       "    </tr>\n",
       "    <tr>\n",
       "      <th>4</th>\n",
       "      <td>1</td>\n",
       "      <td>1.0</td>\n",
       "      <td>1</td>\n",
       "    </tr>\n",
       "    <tr>\n",
       "      <th>5</th>\n",
       "      <td>0</td>\n",
       "      <td>1.0</td>\n",
       "      <td>0</td>\n",
       "    </tr>\n",
       "    <tr>\n",
       "      <th>6</th>\n",
       "      <td>4</td>\n",
       "      <td>16.0</td>\n",
       "      <td>3</td>\n",
       "    </tr>\n",
       "    <tr>\n",
       "      <th>7</th>\n",
       "      <td>3</td>\n",
       "      <td>1.0</td>\n",
       "      <td>0</td>\n",
       "    </tr>\n",
       "    <tr>\n",
       "      <th>8</th>\n",
       "      <td>7</td>\n",
       "      <td>1.0</td>\n",
       "      <td>0</td>\n",
       "    </tr>\n",
       "    <tr>\n",
       "      <th>9</th>\n",
       "      <td>2</td>\n",
       "      <td>1.0</td>\n",
       "      <td>0</td>\n",
       "    </tr>\n",
       "    <tr>\n",
       "      <th>10</th>\n",
       "      <td>2</td>\n",
       "      <td>1.0</td>\n",
       "      <td>3</td>\n",
       "    </tr>\n",
       "    <tr>\n",
       "      <th>11</th>\n",
       "      <td>39</td>\n",
       "      <td>9.0</td>\n",
       "      <td>0</td>\n",
       "    </tr>\n",
       "    <tr>\n",
       "      <th>12</th>\n",
       "      <td>3</td>\n",
       "      <td>1.0</td>\n",
       "      <td>3</td>\n",
       "    </tr>\n",
       "    <tr>\n",
       "      <th>13</th>\n",
       "      <td>9</td>\n",
       "      <td>1.0</td>\n",
       "      <td>5</td>\n",
       "    </tr>\n",
       "    <tr>\n",
       "      <th>14</th>\n",
       "      <td>2</td>\n",
       "      <td>5.0</td>\n",
       "      <td>5</td>\n",
       "    </tr>\n",
       "    <tr>\n",
       "      <th>15</th>\n",
       "      <td>3</td>\n",
       "      <td>5.0</td>\n",
       "      <td>0</td>\n",
       "    </tr>\n",
       "    <tr>\n",
       "      <th>16</th>\n",
       "      <td>3</td>\n",
       "      <td>2.0</td>\n",
       "      <td>0</td>\n",
       "    </tr>\n",
       "    <tr>\n",
       "      <th>17</th>\n",
       "      <td>7</td>\n",
       "      <td>2.0</td>\n",
       "      <td>0</td>\n",
       "    </tr>\n",
       "    <tr>\n",
       "      <th>18</th>\n",
       "      <td>1</td>\n",
       "      <td>3.0</td>\n",
       "      <td>0</td>\n",
       "    </tr>\n",
       "    <tr>\n",
       "      <th>19</th>\n",
       "      <td>6</td>\n",
       "      <td>3.0</td>\n",
       "      <td>0</td>\n",
       "    </tr>\n",
       "    <tr>\n",
       "      <th>20</th>\n",
       "      <td>1</td>\n",
       "      <td>1.0</td>\n",
       "      <td>0</td>\n",
       "    </tr>\n",
       "    <tr>\n",
       "      <th>21</th>\n",
       "      <td>9</td>\n",
       "      <td>1.0</td>\n",
       "      <td>0</td>\n",
       "    </tr>\n",
       "    <tr>\n",
       "      <th>22</th>\n",
       "      <td>6</td>\n",
       "      <td>1.0</td>\n",
       "      <td>3</td>\n",
       "    </tr>\n",
       "    <tr>\n",
       "      <th>23</th>\n",
       "      <td>15</td>\n",
       "      <td>3.0</td>\n",
       "      <td>1</td>\n",
       "    </tr>\n",
       "    <tr>\n",
       "      <th>24</th>\n",
       "      <td>10</td>\n",
       "      <td>3.0</td>\n",
       "      <td>1</td>\n",
       "    </tr>\n",
       "    <tr>\n",
       "      <th>25</th>\n",
       "      <td>11</td>\n",
       "      <td>1.0</td>\n",
       "      <td>5</td>\n",
       "    </tr>\n",
       "    <tr>\n",
       "      <th>26</th>\n",
       "      <td>6</td>\n",
       "      <td>2.0</td>\n",
       "      <td>5</td>\n",
       "    </tr>\n",
       "    <tr>\n",
       "      <th>27</th>\n",
       "      <td>11</td>\n",
       "      <td>3.0</td>\n",
       "      <td>5</td>\n",
       "    </tr>\n",
       "    <tr>\n",
       "      <th>28</th>\n",
       "      <td>24</td>\n",
       "      <td>2.0</td>\n",
       "      <td>3</td>\n",
       "    </tr>\n",
       "    <tr>\n",
       "      <th>29</th>\n",
       "      <td>10</td>\n",
       "      <td>2.0</td>\n",
       "      <td>2</td>\n",
       "    </tr>\n",
       "    <tr>\n",
       "      <th>30</th>\n",
       "      <td>28</td>\n",
       "      <td>4.0</td>\n",
       "      <td>0</td>\n",
       "    </tr>\n",
       "    <tr>\n",
       "      <th>31</th>\n",
       "      <td>22</td>\n",
       "      <td>1.0</td>\n",
       "      <td>4</td>\n",
       "    </tr>\n",
       "    <tr>\n",
       "      <th>32</th>\n",
       "      <td>17</td>\n",
       "      <td>5.0</td>\n",
       "      <td>5</td>\n",
       "    </tr>\n",
       "    <tr>\n",
       "      <th>33</th>\n",
       "      <td>33</td>\n",
       "      <td>1.0</td>\n",
       "      <td>4</td>\n",
       "    </tr>\n",
       "  </tbody>\n",
       "</table>\n",
       "</div>"
      ],
      "text/plain": [
       "    # of Topics  Products  TA\n",
       "0            10       1.0   0\n",
       "1             6       1.0   1\n",
       "2             2       1.0   3\n",
       "3             8       1.0   3\n",
       "4             1       1.0   1\n",
       "5             0       1.0   0\n",
       "6             4      16.0   3\n",
       "7             3       1.0   0\n",
       "8             7       1.0   0\n",
       "9             2       1.0   0\n",
       "10            2       1.0   3\n",
       "11           39       9.0   0\n",
       "12            3       1.0   3\n",
       "13            9       1.0   5\n",
       "14            2       5.0   5\n",
       "15            3       5.0   0\n",
       "16            3       2.0   0\n",
       "17            7       2.0   0\n",
       "18            1       3.0   0\n",
       "19            6       3.0   0\n",
       "20            1       1.0   0\n",
       "21            9       1.0   0\n",
       "22            6       1.0   3\n",
       "23           15       3.0   1\n",
       "24           10       3.0   1\n",
       "25           11       1.0   5\n",
       "26            6       2.0   5\n",
       "27           11       3.0   5\n",
       "28           24       2.0   3\n",
       "29           10       2.0   2\n",
       "30           28       4.0   0\n",
       "31           22       1.0   4\n",
       "32           17       5.0   5\n",
       "33           33       1.0   4"
      ]
     },
     "execution_count": 154,
     "metadata": {},
     "output_type": "execute_result"
    }
   ],
   "source": [
    "X = df.copy()"
   ]
  },
  {
   "cell_type": "code",
   "execution_count": 155,
   "metadata": {},
   "outputs": [],
   "source": [
    "from sklearn.cross_validation import train_test_split\n",
    "X_train, X_test, y_train, y_test = train_test_split(X, y, test_size=0.2, random_state=0) "
   ]
  },
  {
   "cell_type": "code",
   "execution_count": 156,
   "metadata": {
    "scrolled": true
   },
   "outputs": [
    {
     "name": "stdout",
     "output_type": "stream",
     "text": [
      "Features by their score\n",
      "[(0.65959999999999996, '# of Topics'), (0.20219999999999999, 'Products'), (0.13819999999999999, 'TA')]\n"
     ]
    }
   ],
   "source": [
    "from sklearn.ensemble import RandomForestRegressor\n",
    "rf  = RandomForestRegressor()\n",
    "rf.fit(X, y)\n",
    "print('Features by their score')\n",
    "print(sorted(zip(map(lambda x: round(x, 4), rf.feature_importances_), list(X.columns)), reverse=True))\n",
    "#rf.feature_importances_"
   ]
  },
  {
   "cell_type": "code",
   "execution_count": 157,
   "metadata": {
    "collapsed": true
   },
   "outputs": [],
   "source": [
    "from sklearn.preprocessing import StandardScaler\n",
    "sc = StandardScaler()\n",
    "sc.fit(X_train)\n",
    "X_train_std = sc.transform(X_train)\n",
    "X_test_std = sc.transform(X_test)"
   ]
  },
  {
   "cell_type": "code",
   "execution_count": 166,
   "metadata": {},
   "outputs": [
    {
     "data": {
      "text/plain": [
       "array([ 14.98127084,   2.48755799, -10.58347803])"
      ]
     },
     "execution_count": 166,
     "metadata": {},
     "output_type": "execute_result"
    }
   ],
   "source": [
    "# Try linear regression\n",
    "from sklearn.linear_model import LinearRegression as lr\n",
    "my_lr = lr(normalize=True)\n",
    "my_lr.fit(X_train_std, y_train)\n",
    "my_lr.predict(X_test_std)\n",
    "my_lr.score(X=X_test_std, y=y_test)\n",
    "\n",
    "my_lr.predict(X=X_test_std)\n",
    "my_lr.coef_"
   ]
  },
  {
   "cell_type": "code",
   "execution_count": 163,
   "metadata": {},
   "outputs": [
    {
     "name": "stderr",
     "output_type": "stream",
     "text": [
      "C:\\Users\\hagen\\Anaconda3\\lib\\site-packages\\sklearn\\utils\\validation.py:395: DeprecationWarning: Passing 1d arrays as data is deprecated in 0.17 and will raise ValueError in 0.19. Reshape your data either using X.reshape(-1, 1) if your data has a single feature or X.reshape(1, -1) if it contains a single sample.\n",
      "  DeprecationWarning)\n"
     ]
    },
    {
     "data": {
      "text/plain": [
       "array([ 186.85429775])"
      ]
     },
     "execution_count": 163,
     "metadata": {},
     "output_type": "execute_result"
    }
   ],
   "source": [
    "X_test_std\n",
    "a = [3.5, 2, -2]\n",
    "np.asarray(a)\n",
    "my_lr.predict(X=a)"
   ]
  },
  {
   "cell_type": "code",
   "execution_count": 138,
   "metadata": {},
   "outputs": [
    {
     "data": {
      "text/plain": [
       "0.20951502090821505"
      ]
     },
     "execution_count": 138,
     "metadata": {},
     "output_type": "execute_result"
    }
   ],
   "source": [
    "# adaboost\n",
    "from sklearn.ensemble import AdaBoostRegressor\n",
    "my_adaboost = AdaBoostRegressor(n_estimators=50, learning_rate=0.5, loss=\"linear\", )\n",
    "my_adaboost.fit(X_train_std, y_train)\n",
    "my_adaboost.score(X=X_test_std, y=y_test)\n"
   ]
  },
  {
   "cell_type": "code",
   "execution_count": 137,
   "metadata": {},
   "outputs": [
    {
     "data": {
      "text/plain": [
       "11    177.0\n",
       "20     56.0\n",
       "25     41.0\n",
       "17    103.0\n",
       "2      98.0\n",
       "26     47.0\n",
       "31    174.0\n",
       "Name: Time, dtype: float64"
      ]
     },
     "execution_count": 137,
     "metadata": {},
     "output_type": "execute_result"
    }
   ],
   "source": [
    "y_test"
   ]
  },
  {
   "cell_type": "code",
   "execution_count": 139,
   "metadata": {},
   "outputs": [
    {
     "data": {
      "text/plain": [
       "-0.004653624922354771"
      ]
     },
     "execution_count": 139,
     "metadata": {},
     "output_type": "execute_result"
    }
   ],
   "source": [
    "from sklearn.svm import SVR \n",
    "my_svr  = SVR(C=1, epsilon=0.2, kernel=\"linear\")\n",
    "my_svr.fit(X_train_std, y_train)\n",
    "my_svr.score(X=X_test_std, y=y_test)"
   ]
  },
  {
   "cell_type": "code",
   "execution_count": 41,
   "metadata": {
    "collapsed": true
   },
   "outputs": [],
   "source": [
    "#df = df[['outsourced to', '# of Topics', 'Indications', 'Products', 'TA']]\n"
   ]
  },
  {
   "cell_type": "code",
   "execution_count": 42,
   "metadata": {
    "collapsed": true
   },
   "outputs": [],
   "source": [
    "# from sklearn.neural_network import MLPRegressor\n",
    "# my_net = MLPRegressor(hidden_layer_sizes=(3,3,1), activation='relu', alpha=0.0001, max_iter=1000)\n",
    "# my_net.fit(X_train_std, y_train)\n",
    "# my_net.score(X=X_test_std, y=y_test)"
   ]
  },
  {
   "cell_type": "code",
   "execution_count": 21,
   "metadata": {
    "collapsed": true,
    "scrolled": true
   },
   "outputs": [],
   "source": [
    "# from sklearn.model_selection import GridSearchCV\n",
    "# alpha = 10.0 ** -np.arange(1,7)\n",
    "# iterations = [500, 1000, 5000]\n",
    "# params = {\n",
    "#             'hidden_layer_sizes' : ((1,1,1), (2,2,2), (4,5,1), (3,3,1)),\n",
    "#             'alpha' : alpha, \n",
    "#             'activation' : ('relu', 'logistic'), \n",
    "#             'solver' : ('adam', 'sgd'),\n",
    "#             'max_iter': iterations\n",
    "#          }\n",
    "# my_clf = GridSearchCV(my_net, params)\n",
    "# my_clf.fit(X_train_std, y_train)\n",
    "# my_clf.score(X=X_test_std, y=y_test)"
   ]
  },
  {
   "cell_type": "code",
   "execution_count": 51,
   "metadata": {},
   "outputs": [
    {
     "data": {
      "text/plain": [
       "MLPRegressor(activation='relu', alpha=0.01, batch_size='auto', beta_1=0.9,\n",
       "       beta_2=0.999, early_stopping=False, epsilon=1e-08,\n",
       "       hidden_layer_sizes=(3, 3, 1), learning_rate='constant',\n",
       "       learning_rate_init=0.001, max_iter=100000, momentum=0.9,\n",
       "       nesterovs_momentum=True, power_t=0.5, random_state=None,\n",
       "       shuffle=True, solver='adam', tol=0.0001, validation_fraction=0.1,\n",
       "       verbose=False, warm_start=False)"
      ]
     },
     "execution_count": 51,
     "metadata": {},
     "output_type": "execute_result"
    }
   ],
   "source": [
    "my_clf.best_estimator_"
   ]
  },
  {
   "cell_type": "code",
   "execution_count": null,
   "metadata": {
    "collapsed": true
   },
   "outputs": [],
   "source": []
  }
 ],
 "metadata": {
  "kernelspec": {
   "display_name": "Python 3",
   "language": "python",
   "name": "python3"
  },
  "language_info": {
   "codemirror_mode": {
    "name": "ipython",
    "version": 3
   },
   "file_extension": ".py",
   "mimetype": "text/x-python",
   "name": "python",
   "nbconvert_exporter": "python",
   "pygments_lexer": "ipython3",
   "version": "3.6.1"
  }
 },
 "nbformat": 4,
 "nbformat_minor": 2
}
