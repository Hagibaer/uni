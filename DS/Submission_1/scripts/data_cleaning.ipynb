{
 "cells": [
  {
   "cell_type": "code",
   "execution_count": 212,
   "metadata": {
    "collapsed": true
   },
   "outputs": [],
   "source": [
    "import pandas as pd\n",
    "import numpy as np"
   ]
  },
  {
   "cell_type": "code",
   "execution_count": 213,
   "metadata": {
    "collapsed": true
   },
   "outputs": [],
   "source": [
    "# read raw data\n",
    "df_train = pd.read_csv('../data/BADS_WS1718_known.csv', sep=',', na_values=['?', 'not_reported'])\n",
    "df_test = pd.read_csv('../data/BADS_WS1718_class.csv', sep=',', na_values=['?', 'not_reported'])"
   ]
  },
  {
   "cell_type": "code",
   "execution_count": 214,
   "metadata": {
    "scrolled": true
   },
   "outputs": [],
   "source": [
    "# just to prove pythons superiority compared to R\n",
    "#for col in df_train.columns:\n",
    "#    print(df_train.groupby(col)['order_item_id'].nunique())"
   ]
  },
  {
   "cell_type": "code",
   "execution_count": 215,
   "metadata": {
    "scrolled": true
   },
   "outputs": [],
   "source": [
    "#for col in df_test.columns:\n",
    "#    print(df_test.groupby(col)['order_item_id'].nunique())"
   ]
  },
  {
   "cell_type": "code",
   "execution_count": 216,
   "metadata": {},
   "outputs": [],
   "source": [
    "# Clean data - will be refactored into a function"
   ]
  },
  {
   "cell_type": "code",
   "execution_count": 217,
   "metadata": {},
   "outputs": [],
   "source": [
    "# 1. Drop order_item_id -> no value\n",
    "df_train = df_train.drop(['order_item_id'], axis=1)\n",
    "df_test = df_test.drop(['order_item_id'], axis=1)"
   ]
  },
  {
   "cell_type": "code",
   "execution_count": 218,
   "metadata": {},
   "outputs": [],
   "source": [
    "# 2. Convert date columns to datetime format:  order_date, delivery-date, user_reg_date, user_dob"
   ]
  },
  {
   "cell_type": "code",
   "execution_count": 219,
   "metadata": {},
   "outputs": [],
   "source": [
    "date_columns = ['order_date', 'delivery_date', 'user_reg_date', 'user_dob']\n",
    "for date in date_columns:\n",
    "    df_train[date] = pd.to_datetime(df_train[date], format=\"%Y-%m-%d\")"
   ]
  },
  {
   "cell_type": "code",
   "execution_count": 220,
   "metadata": {
    "collapsed": true
   },
   "outputs": [],
   "source": [
    "for date in date_columns:\n",
    "    df_test[date] = pd.to_datetime(df_test[date], format=\"%Y-%m-%d\")"
   ]
  },
  {
   "cell_type": "code",
   "execution_count": 221,
   "metadata": {},
   "outputs": [],
   "source": [
    "# 3. Calculate additional columns\n",
    "# 3.1 Length of customership  (LOC) (order_date - user_reg_date )\n",
    "#df['LOC'] \n",
    "df_train['LOC'] = (df_train.order_date - df_train.user_reg_date) / np.timedelta64(1, 'D')\n",
    "df_test['LOC'] = (df_test.order_date - df_test.user_reg_date) / np.timedelta64(1, 'D')"
   ]
  },
  {
   "cell_type": "code",
   "execution_count": 222,
   "metadata": {},
   "outputs": [],
   "source": [
    "#3.2 age of the customers df['age'] at the time of order (order_date - user_dob)\n",
    "df_train['age'] = np.round((df_train.order_date - df_train.user_dob) / np.timedelta64(1, 'Y'))\n",
    "df_test ['age'] = np.round((df_test.order_date - df_test.user_dob) / np.timedelta64(1, 'Y'))"
   ]
  },
  {
   "cell_type": "code",
   "execution_count": 223,
   "metadata": {
    "scrolled": true
   },
   "outputs": [],
   "source": [
    "#3.3 delivery-time (DT) (order_date - delivery_date)\n",
    "df_train['DT'] = (df_train.delivery_date - df_train.order_date) / np.timedelta64(1, 'D')\n",
    "df_test['DT'] = (df_test.delivery_date - df_test.order_date) / np.timedelta64(1, 'D')"
   ]
  },
  {
   "cell_type": "code",
   "execution_count": 246,
   "metadata": {},
   "outputs": [],
   "source": [
    "#3.4 Number of past purchases (NPP)\n",
    "past_purchases = df_train.user_id.value_counts()\n",
    "df_train['npp'] = 0\n",
    "npp = []\n",
    "for elem in zip(df_train.user_id, df_train.npp):\n",
    "    npp.append(past_purchases[elem[0]])\n",
    "df_train.npp = npp\n",
    "\n",
    "past_purchases = df_test.user_id.value_counts()\n",
    "df_test['npp'] = 0\n",
    "npp = []\n",
    "for elem in zip(df_test.user_id, df_test.npp):\n",
    "    npp.append(past_purchases[elem[0]])\n",
    "df_test.npp = npp"
   ]
  },
  {
   "cell_type": "code",
   "execution_count": 245,
   "metadata": {},
   "outputs": [],
   "source": [
    "# 3.5 Return rate of the customer"
   ]
  },
  {
   "cell_type": "code",
   "execution_count": null,
   "metadata": {
    "collapsed": true
   },
   "outputs": [],
   "source": []
  },
  {
   "cell_type": "code",
   "execution_count": null,
   "metadata": {
    "collapsed": true
   },
   "outputs": [],
   "source": []
  },
  {
   "cell_type": "code",
   "execution_count": 225,
   "metadata": {
    "collapsed": true
   },
   "outputs": [],
   "source": [
    "copy = df_train.copy()"
   ]
  },
  {
   "cell_type": "code",
   "execution_count": 226,
   "metadata": {},
   "outputs": [],
   "source": [
    "t = copy.user_id.value_counts()"
   ]
  },
  {
   "cell_type": "code",
   "execution_count": 237,
   "metadata": {},
   "outputs": [
    {
     "data": {
      "text/plain": [
       "0         2\n",
       "1         3\n",
       "2         2\n",
       "3         2\n",
       "4         1\n",
       "5         6\n",
       "6         5\n",
       "7        12\n",
       "8         1\n",
       "9         4\n",
       "10        3\n",
       "11        3\n",
       "12        2\n",
       "13       10\n",
       "14       10\n",
       "15        3\n",
       "16        3\n",
       "17        3\n",
       "18        2\n",
       "19        9\n",
       "20       10\n",
       "21       12\n",
       "22        4\n",
       "23        2\n",
       "24        5\n",
       "25        4\n",
       "26        1\n",
       "27        4\n",
       "28        4\n",
       "29        4\n",
       "         ..\n",
       "99970     2\n",
       "99971     7\n",
       "99972     4\n",
       "99973    10\n",
       "99974     1\n",
       "99975     1\n",
       "99976     5\n",
       "99977     4\n",
       "99978     4\n",
       "99979     5\n",
       "99980     2\n",
       "99981     3\n",
       "99982     5\n",
       "99983     2\n",
       "99984     2\n",
       "99985    18\n",
       "99986     4\n",
       "99987     1\n",
       "99988     3\n",
       "99989    75\n",
       "99990     6\n",
       "99991     4\n",
       "99992     2\n",
       "99993     3\n",
       "99994     2\n",
       "99995     4\n",
       "99996     7\n",
       "99997     1\n",
       "99998    29\n",
       "99999     7\n",
       "Name: npp, Length: 100000, dtype: int64"
      ]
     },
     "execution_count": 237,
     "metadata": {},
     "output_type": "execute_result"
    }
   ],
   "source": [
    "copy['npp'] = 0\n",
    "npp = []\n",
    "for elem in zip(copy.user_id, copy.npp):\n",
    "    npp.append(t[elem[0]])\n",
    "copy['npp'] = npp\n",
    "copy.npp"
   ]
  },
  {
   "cell_type": "code",
   "execution_count": 161,
   "metadata": {},
   "outputs": [
    {
     "data": {
      "text/plain": [
       "0        566.0\n",
       "1        532.0\n",
       "2          1.0\n",
       "3          0.0\n",
       "4        243.0\n",
       "5        757.0\n",
       "6         25.0\n",
       "7        499.0\n",
       "8          0.0\n",
       "9         66.0\n",
       "10         0.0\n",
       "11       766.0\n",
       "12        65.0\n",
       "13        47.0\n",
       "14       493.0\n",
       "15        21.0\n",
       "16       163.0\n",
       "17         0.0\n",
       "18       516.0\n",
       "19       347.0\n",
       "20       472.0\n",
       "21       417.0\n",
       "22       542.0\n",
       "23       203.0\n",
       "24         0.0\n",
       "25       219.0\n",
       "26         0.0\n",
       "27       134.0\n",
       "28         0.0\n",
       "29       218.0\n",
       "         ...  \n",
       "99970      0.0\n",
       "99971    471.0\n",
       "99972     70.0\n",
       "99973     50.0\n",
       "99974      0.0\n",
       "99975      0.0\n",
       "99976     62.0\n",
       "99977    452.0\n",
       "99978    467.0\n",
       "99979      0.0\n",
       "99980    470.0\n",
       "99981      0.0\n",
       "99982      0.0\n",
       "99983      0.0\n",
       "99984    186.0\n",
       "99985    463.0\n",
       "99986      0.0\n",
       "99987    608.0\n",
       "99988      0.0\n",
       "99989    692.0\n",
       "99990    240.0\n",
       "99991    352.0\n",
       "99992    351.0\n",
       "99993    457.0\n",
       "99994    109.0\n",
       "99995     19.0\n",
       "99996    550.0\n",
       "99997    252.0\n",
       "99998    534.0\n",
       "99999    442.0\n",
       "Name: LOC, Length: 100000, dtype: float64"
      ]
     },
     "execution_count": 161,
     "metadata": {},
     "output_type": "execute_result"
    }
   ],
   "source": [
    "import seaborn as sns, matplotlib.pyplot as plt\n",
    "copy['age'] = copy.order_date - copy.user_dob\n",
    "copy['age'] = copy['age'] /  np.timedelta64(1, 'Y')\n",
    "#sns.distplot(copy.age)\n",
    "#plt.show()\n"
   ]
  },
  {
   "cell_type": "code",
   "execution_count": null,
   "metadata": {
    "collapsed": true
   },
   "outputs": [],
   "source": []
  }
 ],
 "metadata": {
  "kernelspec": {
   "display_name": "Python 3",
   "language": "python",
   "name": "python3"
  },
  "language_info": {
   "codemirror_mode": {
    "name": "ipython",
    "version": 3
   },
   "file_extension": ".py",
   "mimetype": "text/x-python",
   "name": "python",
   "nbconvert_exporter": "python",
   "pygments_lexer": "ipython3",
   "version": "3.6.1"
  }
 },
 "nbformat": 4,
 "nbformat_minor": 2
}
